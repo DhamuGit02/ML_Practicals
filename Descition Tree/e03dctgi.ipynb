{
  "metadata": {
    "kernelspec": {
      "language": "python",
      "display_name": "Python 3",
      "name": "python3"
    },
    "language_info": {
      "name": "python",
      "version": "3.10.12",
      "mimetype": "text/x-python",
      "codemirror_mode": {
        "name": "ipython",
        "version": 3
      },
      "pygments_lexer": "ipython3",
      "nbconvert_exporter": "python",
      "file_extension": ".py"
    },
    "colab": {
      "provenance": []
    }
  },
  "nbformat_minor": 0,
  "nbformat": 4,
  "cells": [
    {
      "cell_type": "code",
      "source": [
        "import pandas as pd\n",
        "import numpy as np\n",
        "from matplotlib import pyplot as plt"
      ],
      "metadata": {
        "_uuid": "8f2839f25d086af736a60e9eeb907d3b93b6e0e5",
        "_cell_guid": "b1076dfc-b9ad-4769-8c92-a6c4dae69d19",
        "execution": {
          "iopub.status.busy": "2023-08-14T06:04:34.494204Z",
          "iopub.execute_input": "2023-08-14T06:04:34.494610Z",
          "iopub.status.idle": "2023-08-14T06:04:34.521430Z",
          "shell.execute_reply.started": "2023-08-14T06:04:34.494576Z",
          "shell.execute_reply": "2023-08-14T06:04:34.520491Z"
        },
        "trusted": true,
        "id": "jCvSauy675i_"
      },
      "execution_count": null,
      "outputs": []
    },
    {
      "cell_type": "code",
      "source": [
        "df = pd.read_csv('/kaggle/input/adult-census-income/adult.csv')\n",
        "df.head()"
      ],
      "metadata": {
        "execution": {
          "iopub.status.busy": "2023-08-14T06:05:27.622248Z",
          "iopub.execute_input": "2023-08-14T06:05:27.622620Z",
          "iopub.status.idle": "2023-08-14T06:05:27.801114Z",
          "shell.execute_reply.started": "2023-08-14T06:05:27.622592Z",
          "shell.execute_reply": "2023-08-14T06:05:27.800122Z"
        },
        "trusted": true,
        "id": "bgiqwMhR75jC",
        "outputId": "6f9c7b0e-ffc0-40f5-836c-3779e2217029"
      },
      "execution_count": null,
      "outputs": [
        {
          "execution_count": 2,
          "output_type": "execute_result",
          "data": {
            "text/plain": "   age workclass  fnlwgt     education  education.num marital.status  \\\n0   90         ?   77053       HS-grad              9        Widowed   \n1   82   Private  132870       HS-grad              9        Widowed   \n2   66         ?  186061  Some-college             10        Widowed   \n3   54   Private  140359       7th-8th              4       Divorced   \n4   41   Private  264663  Some-college             10      Separated   \n\n          occupation   relationship   race     sex  capital.gain  \\\n0                  ?  Not-in-family  White  Female             0   \n1    Exec-managerial  Not-in-family  White  Female             0   \n2                  ?      Unmarried  Black  Female             0   \n3  Machine-op-inspct      Unmarried  White  Female             0   \n4     Prof-specialty      Own-child  White  Female             0   \n\n   capital.loss  hours.per.week native.country income  \n0          4356              40  United-States  <=50K  \n1          4356              18  United-States  <=50K  \n2          4356              40  United-States  <=50K  \n3          3900              40  United-States  <=50K  \n4          3900              40  United-States  <=50K  ",
            "text/html": "<div>\n<style scoped>\n    .dataframe tbody tr th:only-of-type {\n        vertical-align: middle;\n    }\n\n    .dataframe tbody tr th {\n        vertical-align: top;\n    }\n\n    .dataframe thead th {\n        text-align: right;\n    }\n</style>\n<table border=\"1\" class=\"dataframe\">\n  <thead>\n    <tr style=\"text-align: right;\">\n      <th></th>\n      <th>age</th>\n      <th>workclass</th>\n      <th>fnlwgt</th>\n      <th>education</th>\n      <th>education.num</th>\n      <th>marital.status</th>\n      <th>occupation</th>\n      <th>relationship</th>\n      <th>race</th>\n      <th>sex</th>\n      <th>capital.gain</th>\n      <th>capital.loss</th>\n      <th>hours.per.week</th>\n      <th>native.country</th>\n      <th>income</th>\n    </tr>\n  </thead>\n  <tbody>\n    <tr>\n      <th>0</th>\n      <td>90</td>\n      <td>?</td>\n      <td>77053</td>\n      <td>HS-grad</td>\n      <td>9</td>\n      <td>Widowed</td>\n      <td>?</td>\n      <td>Not-in-family</td>\n      <td>White</td>\n      <td>Female</td>\n      <td>0</td>\n      <td>4356</td>\n      <td>40</td>\n      <td>United-States</td>\n      <td>&lt;=50K</td>\n    </tr>\n    <tr>\n      <th>1</th>\n      <td>82</td>\n      <td>Private</td>\n      <td>132870</td>\n      <td>HS-grad</td>\n      <td>9</td>\n      <td>Widowed</td>\n      <td>Exec-managerial</td>\n      <td>Not-in-family</td>\n      <td>White</td>\n      <td>Female</td>\n      <td>0</td>\n      <td>4356</td>\n      <td>18</td>\n      <td>United-States</td>\n      <td>&lt;=50K</td>\n    </tr>\n    <tr>\n      <th>2</th>\n      <td>66</td>\n      <td>?</td>\n      <td>186061</td>\n      <td>Some-college</td>\n      <td>10</td>\n      <td>Widowed</td>\n      <td>?</td>\n      <td>Unmarried</td>\n      <td>Black</td>\n      <td>Female</td>\n      <td>0</td>\n      <td>4356</td>\n      <td>40</td>\n      <td>United-States</td>\n      <td>&lt;=50K</td>\n    </tr>\n    <tr>\n      <th>3</th>\n      <td>54</td>\n      <td>Private</td>\n      <td>140359</td>\n      <td>7th-8th</td>\n      <td>4</td>\n      <td>Divorced</td>\n      <td>Machine-op-inspct</td>\n      <td>Unmarried</td>\n      <td>White</td>\n      <td>Female</td>\n      <td>0</td>\n      <td>3900</td>\n      <td>40</td>\n      <td>United-States</td>\n      <td>&lt;=50K</td>\n    </tr>\n    <tr>\n      <th>4</th>\n      <td>41</td>\n      <td>Private</td>\n      <td>264663</td>\n      <td>Some-college</td>\n      <td>10</td>\n      <td>Separated</td>\n      <td>Prof-specialty</td>\n      <td>Own-child</td>\n      <td>White</td>\n      <td>Female</td>\n      <td>0</td>\n      <td>3900</td>\n      <td>40</td>\n      <td>United-States</td>\n      <td>&lt;=50K</td>\n    </tr>\n  </tbody>\n</table>\n</div>"
          },
          "metadata": {}
        }
      ]
    },
    {
      "cell_type": "code",
      "source": [
        "df.describe(), df.isnull().sum()"
      ],
      "metadata": {
        "execution": {
          "iopub.status.busy": "2023-08-14T06:05:49.111723Z",
          "iopub.execute_input": "2023-08-14T06:05:49.112122Z",
          "iopub.status.idle": "2023-08-14T06:05:49.193501Z",
          "shell.execute_reply.started": "2023-08-14T06:05:49.112088Z",
          "shell.execute_reply": "2023-08-14T06:05:49.192384Z"
        },
        "trusted": true,
        "id": "QBtDua0x75jC",
        "outputId": "462b6eea-6f9e-4667-f8ca-200e3b460d51"
      },
      "execution_count": null,
      "outputs": [
        {
          "execution_count": 3,
          "output_type": "execute_result",
          "data": {
            "text/plain": "(                age        fnlwgt  education.num  capital.gain  capital.loss  \\\n count  32561.000000  3.256100e+04   32561.000000  32561.000000  32561.000000   \n mean      38.581647  1.897784e+05      10.080679   1077.648844     87.303830   \n std       13.640433  1.055500e+05       2.572720   7385.292085    402.960219   \n min       17.000000  1.228500e+04       1.000000      0.000000      0.000000   \n 25%       28.000000  1.178270e+05       9.000000      0.000000      0.000000   \n 50%       37.000000  1.783560e+05      10.000000      0.000000      0.000000   \n 75%       48.000000  2.370510e+05      12.000000      0.000000      0.000000   \n max       90.000000  1.484705e+06      16.000000  99999.000000   4356.000000   \n \n        hours.per.week  \n count    32561.000000  \n mean        40.437456  \n std         12.347429  \n min          1.000000  \n 25%         40.000000  \n 50%         40.000000  \n 75%         45.000000  \n max         99.000000  ,\n age               0\n workclass         0\n fnlwgt            0\n education         0\n education.num     0\n marital.status    0\n occupation        0\n relationship      0\n race              0\n sex               0\n capital.gain      0\n capital.loss      0\n hours.per.week    0\n native.country    0\n income            0\n dtype: int64)"
          },
          "metadata": {}
        }
      ]
    },
    {
      "cell_type": "code",
      "source": [
        "df['workclass'].value_counts()"
      ],
      "metadata": {
        "execution": {
          "iopub.status.busy": "2023-08-14T06:08:58.976130Z",
          "iopub.execute_input": "2023-08-14T06:08:58.976552Z",
          "iopub.status.idle": "2023-08-14T06:08:58.990869Z",
          "shell.execute_reply.started": "2023-08-14T06:08:58.976515Z",
          "shell.execute_reply": "2023-08-14T06:08:58.989708Z"
        },
        "trusted": true,
        "id": "lK75vhn075jD",
        "outputId": "605baed4-ad5a-4ec4-daee-135868193343"
      },
      "execution_count": null,
      "outputs": [
        {
          "execution_count": 6,
          "output_type": "execute_result",
          "data": {
            "text/plain": "Private             22696\nSelf-emp-not-inc     2541\nLocal-gov            2093\n?                    1836\nState-gov            1298\nSelf-emp-inc         1116\nFederal-gov           960\nWithout-pay            14\nNever-worked            7\nName: workclass, dtype: int64"
          },
          "metadata": {}
        }
      ]
    },
    {
      "cell_type": "code",
      "source": [
        "df.shape"
      ],
      "metadata": {
        "execution": {
          "iopub.status.busy": "2023-08-14T06:11:09.357717Z",
          "iopub.execute_input": "2023-08-14T06:11:09.358120Z",
          "iopub.status.idle": "2023-08-14T06:11:09.364754Z",
          "shell.execute_reply.started": "2023-08-14T06:11:09.358086Z",
          "shell.execute_reply": "2023-08-14T06:11:09.363673Z"
        },
        "trusted": true,
        "id": "QxZ8sulj75jD",
        "outputId": "c8a714fc-766f-4705-d146-27d36d3cf8c1"
      },
      "execution_count": null,
      "outputs": [
        {
          "execution_count": 7,
          "output_type": "execute_result",
          "data": {
            "text/plain": "(32561, 15)"
          },
          "metadata": {}
        }
      ]
    },
    {
      "cell_type": "code",
      "source": [
        "df['workclass'].mode()"
      ],
      "metadata": {
        "execution": {
          "iopub.status.busy": "2023-08-14T06:18:42.278248Z",
          "iopub.execute_input": "2023-08-14T06:18:42.278674Z",
          "iopub.status.idle": "2023-08-14T06:18:42.288751Z",
          "shell.execute_reply.started": "2023-08-14T06:18:42.278639Z",
          "shell.execute_reply": "2023-08-14T06:18:42.287661Z"
        },
        "trusted": true,
        "id": "IGQ-BvgT75jD",
        "outputId": "84872b81-a87c-4ce3-b26f-2ca8e278f20e"
      },
      "execution_count": null,
      "outputs": [
        {
          "execution_count": 8,
          "output_type": "execute_result",
          "data": {
            "text/plain": "0    Private\nName: workclass, dtype: object"
          },
          "metadata": {}
        }
      ]
    },
    {
      "cell_type": "code",
      "source": [
        "df['workclass'].replace(\"?\", \"Private\", inplace=True)"
      ],
      "metadata": {
        "execution": {
          "iopub.status.busy": "2023-08-14T06:20:13.905039Z",
          "iopub.execute_input": "2023-08-14T06:20:13.905474Z",
          "iopub.status.idle": "2023-08-14T06:20:13.912969Z",
          "shell.execute_reply.started": "2023-08-14T06:20:13.905437Z",
          "shell.execute_reply": "2023-08-14T06:20:13.911774Z"
        },
        "trusted": true,
        "id": "3gjxpwXX75jE"
      },
      "execution_count": null,
      "outputs": []
    },
    {
      "cell_type": "code",
      "source": [
        "df['occupation'].value_counts()"
      ],
      "metadata": {
        "execution": {
          "iopub.status.busy": "2023-08-14T06:20:49.664466Z",
          "iopub.execute_input": "2023-08-14T06:20:49.664883Z",
          "iopub.status.idle": "2023-08-14T06:20:49.675903Z",
          "shell.execute_reply.started": "2023-08-14T06:20:49.664846Z",
          "shell.execute_reply": "2023-08-14T06:20:49.674533Z"
        },
        "trusted": true,
        "id": "uqslNsHO75jE",
        "outputId": "502bb7a7-98e0-48e6-a07b-5e1525f1deba"
      },
      "execution_count": null,
      "outputs": [
        {
          "execution_count": 11,
          "output_type": "execute_result",
          "data": {
            "text/plain": "Prof-specialty       4140\nCraft-repair         4099\nExec-managerial      4066\nAdm-clerical         3770\nSales                3650\nOther-service        3295\nMachine-op-inspct    2002\n?                    1843\nTransport-moving     1597\nHandlers-cleaners    1370\nFarming-fishing       994\nTech-support          928\nProtective-serv       649\nPriv-house-serv       149\nArmed-Forces            9\nName: occupation, dtype: int64"
          },
          "metadata": {}
        }
      ]
    },
    {
      "cell_type": "code",
      "source": [
        "import random\n",
        "df['occupation'].replace(\"?\", random.choice([\"Prof-specialty\", \"Craft-repair\", \"Exec-managerial\"]), inplace=True)"
      ],
      "metadata": {
        "execution": {
          "iopub.status.busy": "2023-08-14T06:23:33.809826Z",
          "iopub.execute_input": "2023-08-14T06:23:33.810230Z",
          "iopub.status.idle": "2023-08-14T06:23:33.817714Z",
          "shell.execute_reply.started": "2023-08-14T06:23:33.810195Z",
          "shell.execute_reply": "2023-08-14T06:23:33.816497Z"
        },
        "trusted": true,
        "id": "ChMjUgcA75jE"
      },
      "execution_count": null,
      "outputs": []
    },
    {
      "cell_type": "code",
      "source": [
        "(df==\"?\").sum()"
      ],
      "metadata": {
        "execution": {
          "iopub.status.busy": "2023-08-14T06:25:06.384610Z",
          "iopub.execute_input": "2023-08-14T06:25:06.384973Z",
          "iopub.status.idle": "2023-08-14T06:25:06.414870Z",
          "shell.execute_reply.started": "2023-08-14T06:25:06.384944Z",
          "shell.execute_reply": "2023-08-14T06:25:06.413412Z"
        },
        "trusted": true,
        "id": "ZRrcx7jt75jF",
        "outputId": "7432c930-25cc-4991-bd5b-a9d1ccff9e47"
      },
      "execution_count": null,
      "outputs": [
        {
          "execution_count": 18,
          "output_type": "execute_result",
          "data": {
            "text/plain": "age                 0\nworkclass           0\nfnlwgt              0\neducation           0\neducation.num       0\nmarital.status      0\noccupation          0\nrelationship        0\nrace                0\nsex                 0\ncapital.gain        0\ncapital.loss        0\nhours.per.week      0\nnative.country    583\nincome              0\ndtype: int64"
          },
          "metadata": {}
        }
      ]
    },
    {
      "cell_type": "code",
      "source": [
        "filtered_df = df[df['native.country'] != \"?\"]\n",
        "(filtered_df == \"?\").sum()"
      ],
      "metadata": {
        "execution": {
          "iopub.status.busy": "2023-08-14T06:27:23.118696Z",
          "iopub.execute_input": "2023-08-14T06:27:23.119439Z",
          "iopub.status.idle": "2023-08-14T06:27:23.159248Z",
          "shell.execute_reply.started": "2023-08-14T06:27:23.119402Z",
          "shell.execute_reply": "2023-08-14T06:27:23.158061Z"
        },
        "trusted": true,
        "id": "Rx4fCFLG75jF",
        "outputId": "57c9ad39-f08d-4d18-b551-6befe4d714e6"
      },
      "execution_count": null,
      "outputs": [
        {
          "execution_count": 21,
          "output_type": "execute_result",
          "data": {
            "text/plain": "age               0\nworkclass         0\nfnlwgt            0\neducation         0\neducation.num     0\nmarital.status    0\noccupation        0\nrelationship      0\nrace              0\nsex               0\ncapital.gain      0\ncapital.loss      0\nhours.per.week    0\nnative.country    0\nincome            0\ndtype: int64"
          },
          "metadata": {}
        }
      ]
    },
    {
      "cell_type": "code",
      "source": [
        "filtered_df.head()"
      ],
      "metadata": {
        "execution": {
          "iopub.status.busy": "2023-08-14T06:30:15.505428Z",
          "iopub.execute_input": "2023-08-14T06:30:15.505844Z",
          "iopub.status.idle": "2023-08-14T06:30:15.523029Z",
          "shell.execute_reply.started": "2023-08-14T06:30:15.505809Z",
          "shell.execute_reply": "2023-08-14T06:30:15.521783Z"
        },
        "trusted": true,
        "id": "GDXrUOjw75jG",
        "outputId": "075f707d-9865-4454-f55f-351c7b645af3"
      },
      "execution_count": null,
      "outputs": [
        {
          "execution_count": 23,
          "output_type": "execute_result",
          "data": {
            "text/plain": "   age workclass  fnlwgt     education  education.num marital.status  \\\n0   90   Private   77053       HS-grad              9        Widowed   \n1   82   Private  132870       HS-grad              9        Widowed   \n2   66   Private  186061  Some-college             10        Widowed   \n3   54   Private  140359       7th-8th              4       Divorced   \n4   41   Private  264663  Some-college             10      Separated   \n\n          occupation   relationship   race     sex  capital.gain  \\\n0     Prof-specialty  Not-in-family  White  Female             0   \n1    Exec-managerial  Not-in-family  White  Female             0   \n2     Prof-specialty      Unmarried  Black  Female             0   \n3  Machine-op-inspct      Unmarried  White  Female             0   \n4     Prof-specialty      Own-child  White  Female             0   \n\n   capital.loss  hours.per.week native.country income  \n0          4356              40  United-States  <=50K  \n1          4356              18  United-States  <=50K  \n2          4356              40  United-States  <=50K  \n3          3900              40  United-States  <=50K  \n4          3900              40  United-States  <=50K  ",
            "text/html": "<div>\n<style scoped>\n    .dataframe tbody tr th:only-of-type {\n        vertical-align: middle;\n    }\n\n    .dataframe tbody tr th {\n        vertical-align: top;\n    }\n\n    .dataframe thead th {\n        text-align: right;\n    }\n</style>\n<table border=\"1\" class=\"dataframe\">\n  <thead>\n    <tr style=\"text-align: right;\">\n      <th></th>\n      <th>age</th>\n      <th>workclass</th>\n      <th>fnlwgt</th>\n      <th>education</th>\n      <th>education.num</th>\n      <th>marital.status</th>\n      <th>occupation</th>\n      <th>relationship</th>\n      <th>race</th>\n      <th>sex</th>\n      <th>capital.gain</th>\n      <th>capital.loss</th>\n      <th>hours.per.week</th>\n      <th>native.country</th>\n      <th>income</th>\n    </tr>\n  </thead>\n  <tbody>\n    <tr>\n      <th>0</th>\n      <td>90</td>\n      <td>Private</td>\n      <td>77053</td>\n      <td>HS-grad</td>\n      <td>9</td>\n      <td>Widowed</td>\n      <td>Prof-specialty</td>\n      <td>Not-in-family</td>\n      <td>White</td>\n      <td>Female</td>\n      <td>0</td>\n      <td>4356</td>\n      <td>40</td>\n      <td>United-States</td>\n      <td>&lt;=50K</td>\n    </tr>\n    <tr>\n      <th>1</th>\n      <td>82</td>\n      <td>Private</td>\n      <td>132870</td>\n      <td>HS-grad</td>\n      <td>9</td>\n      <td>Widowed</td>\n      <td>Exec-managerial</td>\n      <td>Not-in-family</td>\n      <td>White</td>\n      <td>Female</td>\n      <td>0</td>\n      <td>4356</td>\n      <td>18</td>\n      <td>United-States</td>\n      <td>&lt;=50K</td>\n    </tr>\n    <tr>\n      <th>2</th>\n      <td>66</td>\n      <td>Private</td>\n      <td>186061</td>\n      <td>Some-college</td>\n      <td>10</td>\n      <td>Widowed</td>\n      <td>Prof-specialty</td>\n      <td>Unmarried</td>\n      <td>Black</td>\n      <td>Female</td>\n      <td>0</td>\n      <td>4356</td>\n      <td>40</td>\n      <td>United-States</td>\n      <td>&lt;=50K</td>\n    </tr>\n    <tr>\n      <th>3</th>\n      <td>54</td>\n      <td>Private</td>\n      <td>140359</td>\n      <td>7th-8th</td>\n      <td>4</td>\n      <td>Divorced</td>\n      <td>Machine-op-inspct</td>\n      <td>Unmarried</td>\n      <td>White</td>\n      <td>Female</td>\n      <td>0</td>\n      <td>3900</td>\n      <td>40</td>\n      <td>United-States</td>\n      <td>&lt;=50K</td>\n    </tr>\n    <tr>\n      <th>4</th>\n      <td>41</td>\n      <td>Private</td>\n      <td>264663</td>\n      <td>Some-college</td>\n      <td>10</td>\n      <td>Separated</td>\n      <td>Prof-specialty</td>\n      <td>Own-child</td>\n      <td>White</td>\n      <td>Female</td>\n      <td>0</td>\n      <td>3900</td>\n      <td>40</td>\n      <td>United-States</td>\n      <td>&lt;=50K</td>\n    </tr>\n  </tbody>\n</table>\n</div>"
          },
          "metadata": {}
        }
      ]
    },
    {
      "cell_type": "code",
      "source": [
        "cols = [\"workclass\", \"education\", \"marital.status\", \"occupation\", \"relationship\", \"race\", \"sex\", \"native.country\", \"income\"]\n",
        "for col in cols:\n",
        "    print(df[col].value_counts())"
      ],
      "metadata": {
        "execution": {
          "iopub.status.busy": "2023-08-14T06:39:49.391334Z",
          "iopub.execute_input": "2023-08-14T06:39:49.391721Z",
          "iopub.status.idle": "2023-08-14T06:39:49.424685Z",
          "shell.execute_reply.started": "2023-08-14T06:39:49.391689Z",
          "shell.execute_reply": "2023-08-14T06:39:49.423375Z"
        },
        "trusted": true,
        "id": "mUESL9tN75jG",
        "outputId": "4ae0a1b8-4259-40ee-a2a3-a5e056310a5e"
      },
      "execution_count": null,
      "outputs": [
        {
          "name": "stdout",
          "text": "Private             24532\nSelf-emp-not-inc     2541\nLocal-gov            2093\nState-gov            1298\nSelf-emp-inc         1116\nFederal-gov           960\nWithout-pay            14\nNever-worked            7\nName: workclass, dtype: int64\nHS-grad         10501\nSome-college     7291\nBachelors        5355\nMasters          1723\nAssoc-voc        1382\n11th             1175\nAssoc-acdm       1067\n10th              933\n7th-8th           646\nProf-school       576\n9th               514\n12th              433\nDoctorate         413\n5th-6th           333\n1st-4th           168\nPreschool          51\nName: education, dtype: int64\nMarried-civ-spouse       14976\nNever-married            10683\nDivorced                  4443\nSeparated                 1025\nWidowed                    993\nMarried-spouse-absent      418\nMarried-AF-spouse           23\nName: marital.status, dtype: int64\nProf-specialty       5983\nCraft-repair         4099\nExec-managerial      4066\nAdm-clerical         3770\nSales                3650\nOther-service        3295\nMachine-op-inspct    2002\nTransport-moving     1597\nHandlers-cleaners    1370\nFarming-fishing       994\nTech-support          928\nProtective-serv       649\nPriv-house-serv       149\nArmed-Forces            9\nName: occupation, dtype: int64\nHusband           13193\nNot-in-family      8305\nOwn-child          5068\nUnmarried          3446\nWife               1568\nOther-relative      981\nName: relationship, dtype: int64\nWhite                 27816\nBlack                  3124\nAsian-Pac-Islander     1039\nAmer-Indian-Eskimo      311\nOther                   271\nName: race, dtype: int64\nMale      21790\nFemale    10771\nName: sex, dtype: int64\nUnited-States                 29170\nMexico                          643\n?                               583\nPhilippines                     198\nGermany                         137\nCanada                          121\nPuerto-Rico                     114\nEl-Salvador                     106\nIndia                           100\nCuba                             95\nEngland                          90\nJamaica                          81\nSouth                            80\nChina                            75\nItaly                            73\nDominican-Republic               70\nVietnam                          67\nGuatemala                        64\nJapan                            62\nPoland                           60\nColumbia                         59\nTaiwan                           51\nHaiti                            44\nIran                             43\nPortugal                         37\nNicaragua                        34\nPeru                             31\nGreece                           29\nFrance                           29\nEcuador                          28\nIreland                          24\nHong                             20\nCambodia                         19\nTrinadad&Tobago                  19\nLaos                             18\nThailand                         18\nYugoslavia                       16\nOutlying-US(Guam-USVI-etc)       14\nHungary                          13\nHonduras                         13\nScotland                         12\nHoland-Netherlands                1\nName: native.country, dtype: int64\n<=50K    24720\n>50K      7841\nName: income, dtype: int64\n",
          "output_type": "stream"
        }
      ]
    },
    {
      "cell_type": "code",
      "source": [
        "from sklearn import preprocessing\n",
        "label_encoder = preprocessing.LabelEncoder()\n"
      ],
      "metadata": {
        "execution": {
          "iopub.status.busy": "2023-08-14T06:48:15.244177Z",
          "iopub.execute_input": "2023-08-14T06:48:15.244607Z",
          "iopub.status.idle": "2023-08-14T06:48:15.249802Z",
          "shell.execute_reply.started": "2023-08-14T06:48:15.244573Z",
          "shell.execute_reply": "2023-08-14T06:48:15.248563Z"
        },
        "trusted": true,
        "id": "rv6FVdEe75jG"
      },
      "execution_count": null,
      "outputs": []
    },
    {
      "cell_type": "code",
      "source": [
        "filtered_df['workclass'] = label_encoder.fit_transform(filtered_df['workclass'])"
      ],
      "metadata": {
        "execution": {
          "iopub.status.busy": "2023-08-14T06:48:53.722906Z",
          "iopub.execute_input": "2023-08-14T06:48:53.723304Z",
          "iopub.status.idle": "2023-08-14T06:48:53.731370Z",
          "shell.execute_reply.started": "2023-08-14T06:48:53.723271Z",
          "shell.execute_reply": "2023-08-14T06:48:53.729669Z"
        },
        "trusted": true,
        "id": "feGzNRMa75jG",
        "outputId": "7a6a6b43-7484-45c7-c264-58bd6cc7cbe0"
      },
      "execution_count": null,
      "outputs": [
        {
          "name": "stderr",
          "text": "/tmp/ipykernel_32/1654300442.py:1: SettingWithCopyWarning: \nA value is trying to be set on a copy of a slice from a DataFrame.\nTry using .loc[row_indexer,col_indexer] = value instead\n\nSee the caveats in the documentation: https://pandas.pydata.org/pandas-docs/stable/user_guide/indexing.html#returning-a-view-versus-a-copy\n  filtered_df['workclass'] = label_encoder.fit_transform(filtered_df['workclass'])\n",
          "output_type": "stream"
        }
      ]
    },
    {
      "cell_type": "code",
      "source": [
        "df = filtered_df"
      ],
      "metadata": {
        "execution": {
          "iopub.status.busy": "2023-08-14T06:50:45.769473Z",
          "iopub.execute_input": "2023-08-14T06:50:45.769855Z",
          "iopub.status.idle": "2023-08-14T06:50:45.774878Z",
          "shell.execute_reply.started": "2023-08-14T06:50:45.769824Z",
          "shell.execute_reply": "2023-08-14T06:50:45.773584Z"
        },
        "trusted": true,
        "id": "zIX3XfEm75jG"
      },
      "execution_count": null,
      "outputs": []
    },
    {
      "cell_type": "code",
      "source": [
        "df.head()"
      ],
      "metadata": {
        "execution": {
          "iopub.status.busy": "2023-08-14T06:51:04.601753Z",
          "iopub.execute_input": "2023-08-14T06:51:04.602133Z",
          "iopub.status.idle": "2023-08-14T06:51:04.617241Z",
          "shell.execute_reply.started": "2023-08-14T06:51:04.602104Z",
          "shell.execute_reply": "2023-08-14T06:51:04.616176Z"
        },
        "trusted": true,
        "id": "--ufXyKB75jG",
        "outputId": "ffd3e615-fe86-4b4e-9c4b-17e6f1e7d8bd"
      },
      "execution_count": null,
      "outputs": [
        {
          "execution_count": 35,
          "output_type": "execute_result",
          "data": {
            "text/plain": "   age  workclass  fnlwgt  education  education.num  marital.status  \\\n0   90          3   77053         11              9               6   \n1   82          3  132870         11              9               6   \n2   66          3  186061         15             10               6   \n3   54          3  140359          5              4               0   \n4   41          3  264663         15             10               5   \n\n   occupation  relationship  race  sex  capital.gain  capital.loss  \\\n0           9             1     4    0             0          4356   \n1           3             1     4    0             0          4356   \n2           9             4     2    0             0          4356   \n3           6             4     4    0             0          3900   \n4           9             3     4    0             0          3900   \n\n   hours.per.week  native.country  income  \n0              40              38       0  \n1              18              38       0  \n2              40              38       0  \n3              40              38       0  \n4              40              38       0  ",
            "text/html": "<div>\n<style scoped>\n    .dataframe tbody tr th:only-of-type {\n        vertical-align: middle;\n    }\n\n    .dataframe tbody tr th {\n        vertical-align: top;\n    }\n\n    .dataframe thead th {\n        text-align: right;\n    }\n</style>\n<table border=\"1\" class=\"dataframe\">\n  <thead>\n    <tr style=\"text-align: right;\">\n      <th></th>\n      <th>age</th>\n      <th>workclass</th>\n      <th>fnlwgt</th>\n      <th>education</th>\n      <th>education.num</th>\n      <th>marital.status</th>\n      <th>occupation</th>\n      <th>relationship</th>\n      <th>race</th>\n      <th>sex</th>\n      <th>capital.gain</th>\n      <th>capital.loss</th>\n      <th>hours.per.week</th>\n      <th>native.country</th>\n      <th>income</th>\n    </tr>\n  </thead>\n  <tbody>\n    <tr>\n      <th>0</th>\n      <td>90</td>\n      <td>3</td>\n      <td>77053</td>\n      <td>11</td>\n      <td>9</td>\n      <td>6</td>\n      <td>9</td>\n      <td>1</td>\n      <td>4</td>\n      <td>0</td>\n      <td>0</td>\n      <td>4356</td>\n      <td>40</td>\n      <td>38</td>\n      <td>0</td>\n    </tr>\n    <tr>\n      <th>1</th>\n      <td>82</td>\n      <td>3</td>\n      <td>132870</td>\n      <td>11</td>\n      <td>9</td>\n      <td>6</td>\n      <td>3</td>\n      <td>1</td>\n      <td>4</td>\n      <td>0</td>\n      <td>0</td>\n      <td>4356</td>\n      <td>18</td>\n      <td>38</td>\n      <td>0</td>\n    </tr>\n    <tr>\n      <th>2</th>\n      <td>66</td>\n      <td>3</td>\n      <td>186061</td>\n      <td>15</td>\n      <td>10</td>\n      <td>6</td>\n      <td>9</td>\n      <td>4</td>\n      <td>2</td>\n      <td>0</td>\n      <td>0</td>\n      <td>4356</td>\n      <td>40</td>\n      <td>38</td>\n      <td>0</td>\n    </tr>\n    <tr>\n      <th>3</th>\n      <td>54</td>\n      <td>3</td>\n      <td>140359</td>\n      <td>5</td>\n      <td>4</td>\n      <td>0</td>\n      <td>6</td>\n      <td>4</td>\n      <td>4</td>\n      <td>0</td>\n      <td>0</td>\n      <td>3900</td>\n      <td>40</td>\n      <td>38</td>\n      <td>0</td>\n    </tr>\n    <tr>\n      <th>4</th>\n      <td>41</td>\n      <td>3</td>\n      <td>264663</td>\n      <td>15</td>\n      <td>10</td>\n      <td>5</td>\n      <td>9</td>\n      <td>3</td>\n      <td>4</td>\n      <td>0</td>\n      <td>0</td>\n      <td>3900</td>\n      <td>40</td>\n      <td>38</td>\n      <td>0</td>\n    </tr>\n  </tbody>\n</table>\n</div>"
          },
          "metadata": {}
        }
      ]
    },
    {
      "cell_type": "code",
      "source": [
        "df.corr()"
      ],
      "metadata": {
        "execution": {
          "iopub.status.busy": "2023-08-14T06:51:27.226470Z",
          "iopub.execute_input": "2023-08-14T06:51:27.226826Z",
          "iopub.status.idle": "2023-08-14T06:51:27.279361Z",
          "shell.execute_reply.started": "2023-08-14T06:51:27.226799Z",
          "shell.execute_reply": "2023-08-14T06:51:27.278259Z"
        },
        "trusted": true,
        "id": "NLsHO4xh75jH",
        "outputId": "3293f9dc-a9dd-4e01-fcaf-4d0bf6c1c8ca"
      },
      "execution_count": null,
      "outputs": [
        {
          "execution_count": 36,
          "output_type": "execute_result",
          "data": {
            "text/plain": "                     age  workclass    fnlwgt  education  education.num  \\\nage             1.000000   0.040069 -0.076704  -0.009375       0.036614   \nworkclass       0.040069   1.000000 -0.024580   0.005492       0.003004   \nfnlwgt         -0.076704  -0.024580  1.000000  -0.028538      -0.044256   \neducation      -0.009375   0.005492 -0.028538   1.000000       0.359094   \neducation.num   0.036614   0.003004 -0.044256   0.359094       1.000000   \nmarital.status -0.265736  -0.019893  0.028455  -0.038663      -0.068945   \noccupation      0.002228   0.007707 -0.000349  -0.041766       0.069393   \nrelationship   -0.264718  -0.058477  0.010490  -0.011239      -0.094473   \nrace            0.026615   0.050095 -0.021784   0.014345       0.035302   \nsex             0.089035   0.071219  0.025624  -0.027212       0.011326   \ncapital.gain    0.077490   0.032514  0.001087   0.030829       0.122736   \ncapital.loss    0.057282   0.001539 -0.010139   0.016990       0.080565   \nhours.per.week  0.068299   0.042582 -0.018885   0.056381       0.149417   \nnative.country -0.000323  -0.001825 -0.063954   0.077016       0.089206   \nincome          0.233601   0.001736 -0.009014   0.080056       0.335883   \n\n                marital.status  occupation  relationship      race       sex  \\\nage                  -0.265736    0.002228     -0.264718  0.026615  0.089035   \nworkclass            -0.019893    0.007707     -0.058477  0.050095  0.071219   \nfnlwgt                0.028455   -0.000349      0.010490 -0.021784  0.025624   \neducation            -0.038663   -0.041766     -0.011239  0.014345 -0.027212   \neducation.num        -0.068945    0.069393     -0.094473  0.035302  0.011326   \nmarital.status        1.000000    0.035577      0.185034 -0.068888 -0.129334   \noccupation            0.035577    1.000000     -0.038203 -0.003168  0.047865   \nrelationship          0.185034   -0.038203      1.000000 -0.117787 -0.581323   \nrace                 -0.068888   -0.003168     -0.117787  1.000000  0.090093   \nsex                  -0.129334    0.047865     -0.581323  0.090093  1.000000   \ncapital.gain         -0.042842    0.018765     -0.059439  0.013858  0.049508   \ncapital.loss         -0.034046    0.011123     -0.062169  0.021101  0.045840   \nhours.per.week       -0.193249   -0.012956     -0.248907  0.045787  0.229645   \nnative.country       -0.021846   -0.002652     -0.010668  0.121527  0.001556   \nincome               -0.198467    0.035885     -0.250866  0.072713  0.216070   \n\n                capital.gain  capital.loss  hours.per.week  native.country  \\\nage                 0.077490      0.057282        0.068299       -0.000323   \nworkclass           0.032514      0.001539        0.042582       -0.001825   \nfnlwgt              0.001087     -0.010139       -0.018885       -0.063954   \neducation           0.030829      0.016990        0.056381        0.077016   \neducation.num       0.122736      0.080565        0.149417        0.089206   \nmarital.status     -0.042842     -0.034046       -0.193249       -0.021846   \noccupation          0.018765      0.011123       -0.012956       -0.002652   \nrelationship       -0.059439     -0.062169       -0.248907       -0.010668   \nrace                0.013858      0.021101        0.045787        0.121527   \nsex                 0.049508      0.045840        0.229645        0.001556   \ncapital.gain        1.000000     -0.031499        0.079112        0.008530   \ncapital.loss       -0.031499      1.000000        0.053106        0.009153   \nhours.per.week      0.079112      0.053106        1.000000        0.006238   \nnative.country      0.008530      0.009153        0.006238        1.000000   \nincome              0.222703      0.149353        0.230448        0.023179   \n\n                  income  \nage             0.233601  \nworkclass       0.001736  \nfnlwgt         -0.009014  \neducation       0.080056  \neducation.num   0.335883  \nmarital.status -0.198467  \noccupation      0.035885  \nrelationship   -0.250866  \nrace            0.072713  \nsex             0.216070  \ncapital.gain    0.222703  \ncapital.loss    0.149353  \nhours.per.week  0.230448  \nnative.country  0.023179  \nincome          1.000000  ",
            "text/html": "<div>\n<style scoped>\n    .dataframe tbody tr th:only-of-type {\n        vertical-align: middle;\n    }\n\n    .dataframe tbody tr th {\n        vertical-align: top;\n    }\n\n    .dataframe thead th {\n        text-align: right;\n    }\n</style>\n<table border=\"1\" class=\"dataframe\">\n  <thead>\n    <tr style=\"text-align: right;\">\n      <th></th>\n      <th>age</th>\n      <th>workclass</th>\n      <th>fnlwgt</th>\n      <th>education</th>\n      <th>education.num</th>\n      <th>marital.status</th>\n      <th>occupation</th>\n      <th>relationship</th>\n      <th>race</th>\n      <th>sex</th>\n      <th>capital.gain</th>\n      <th>capital.loss</th>\n      <th>hours.per.week</th>\n      <th>native.country</th>\n      <th>income</th>\n    </tr>\n  </thead>\n  <tbody>\n    <tr>\n      <th>age</th>\n      <td>1.000000</td>\n      <td>0.040069</td>\n      <td>-0.076704</td>\n      <td>-0.009375</td>\n      <td>0.036614</td>\n      <td>-0.265736</td>\n      <td>0.002228</td>\n      <td>-0.264718</td>\n      <td>0.026615</td>\n      <td>0.089035</td>\n      <td>0.077490</td>\n      <td>0.057282</td>\n      <td>0.068299</td>\n      <td>-0.000323</td>\n      <td>0.233601</td>\n    </tr>\n    <tr>\n      <th>workclass</th>\n      <td>0.040069</td>\n      <td>1.000000</td>\n      <td>-0.024580</td>\n      <td>0.005492</td>\n      <td>0.003004</td>\n      <td>-0.019893</td>\n      <td>0.007707</td>\n      <td>-0.058477</td>\n      <td>0.050095</td>\n      <td>0.071219</td>\n      <td>0.032514</td>\n      <td>0.001539</td>\n      <td>0.042582</td>\n      <td>-0.001825</td>\n      <td>0.001736</td>\n    </tr>\n    <tr>\n      <th>fnlwgt</th>\n      <td>-0.076704</td>\n      <td>-0.024580</td>\n      <td>1.000000</td>\n      <td>-0.028538</td>\n      <td>-0.044256</td>\n      <td>0.028455</td>\n      <td>-0.000349</td>\n      <td>0.010490</td>\n      <td>-0.021784</td>\n      <td>0.025624</td>\n      <td>0.001087</td>\n      <td>-0.010139</td>\n      <td>-0.018885</td>\n      <td>-0.063954</td>\n      <td>-0.009014</td>\n    </tr>\n    <tr>\n      <th>education</th>\n      <td>-0.009375</td>\n      <td>0.005492</td>\n      <td>-0.028538</td>\n      <td>1.000000</td>\n      <td>0.359094</td>\n      <td>-0.038663</td>\n      <td>-0.041766</td>\n      <td>-0.011239</td>\n      <td>0.014345</td>\n      <td>-0.027212</td>\n      <td>0.030829</td>\n      <td>0.016990</td>\n      <td>0.056381</td>\n      <td>0.077016</td>\n      <td>0.080056</td>\n    </tr>\n    <tr>\n      <th>education.num</th>\n      <td>0.036614</td>\n      <td>0.003004</td>\n      <td>-0.044256</td>\n      <td>0.359094</td>\n      <td>1.000000</td>\n      <td>-0.068945</td>\n      <td>0.069393</td>\n      <td>-0.094473</td>\n      <td>0.035302</td>\n      <td>0.011326</td>\n      <td>0.122736</td>\n      <td>0.080565</td>\n      <td>0.149417</td>\n      <td>0.089206</td>\n      <td>0.335883</td>\n    </tr>\n    <tr>\n      <th>marital.status</th>\n      <td>-0.265736</td>\n      <td>-0.019893</td>\n      <td>0.028455</td>\n      <td>-0.038663</td>\n      <td>-0.068945</td>\n      <td>1.000000</td>\n      <td>0.035577</td>\n      <td>0.185034</td>\n      <td>-0.068888</td>\n      <td>-0.129334</td>\n      <td>-0.042842</td>\n      <td>-0.034046</td>\n      <td>-0.193249</td>\n      <td>-0.021846</td>\n      <td>-0.198467</td>\n    </tr>\n    <tr>\n      <th>occupation</th>\n      <td>0.002228</td>\n      <td>0.007707</td>\n      <td>-0.000349</td>\n      <td>-0.041766</td>\n      <td>0.069393</td>\n      <td>0.035577</td>\n      <td>1.000000</td>\n      <td>-0.038203</td>\n      <td>-0.003168</td>\n      <td>0.047865</td>\n      <td>0.018765</td>\n      <td>0.011123</td>\n      <td>-0.012956</td>\n      <td>-0.002652</td>\n      <td>0.035885</td>\n    </tr>\n    <tr>\n      <th>relationship</th>\n      <td>-0.264718</td>\n      <td>-0.058477</td>\n      <td>0.010490</td>\n      <td>-0.011239</td>\n      <td>-0.094473</td>\n      <td>0.185034</td>\n      <td>-0.038203</td>\n      <td>1.000000</td>\n      <td>-0.117787</td>\n      <td>-0.581323</td>\n      <td>-0.059439</td>\n      <td>-0.062169</td>\n      <td>-0.248907</td>\n      <td>-0.010668</td>\n      <td>-0.250866</td>\n    </tr>\n    <tr>\n      <th>race</th>\n      <td>0.026615</td>\n      <td>0.050095</td>\n      <td>-0.021784</td>\n      <td>0.014345</td>\n      <td>0.035302</td>\n      <td>-0.068888</td>\n      <td>-0.003168</td>\n      <td>-0.117787</td>\n      <td>1.000000</td>\n      <td>0.090093</td>\n      <td>0.013858</td>\n      <td>0.021101</td>\n      <td>0.045787</td>\n      <td>0.121527</td>\n      <td>0.072713</td>\n    </tr>\n    <tr>\n      <th>sex</th>\n      <td>0.089035</td>\n      <td>0.071219</td>\n      <td>0.025624</td>\n      <td>-0.027212</td>\n      <td>0.011326</td>\n      <td>-0.129334</td>\n      <td>0.047865</td>\n      <td>-0.581323</td>\n      <td>0.090093</td>\n      <td>1.000000</td>\n      <td>0.049508</td>\n      <td>0.045840</td>\n      <td>0.229645</td>\n      <td>0.001556</td>\n      <td>0.216070</td>\n    </tr>\n    <tr>\n      <th>capital.gain</th>\n      <td>0.077490</td>\n      <td>0.032514</td>\n      <td>0.001087</td>\n      <td>0.030829</td>\n      <td>0.122736</td>\n      <td>-0.042842</td>\n      <td>0.018765</td>\n      <td>-0.059439</td>\n      <td>0.013858</td>\n      <td>0.049508</td>\n      <td>1.000000</td>\n      <td>-0.031499</td>\n      <td>0.079112</td>\n      <td>0.008530</td>\n      <td>0.222703</td>\n    </tr>\n    <tr>\n      <th>capital.loss</th>\n      <td>0.057282</td>\n      <td>0.001539</td>\n      <td>-0.010139</td>\n      <td>0.016990</td>\n      <td>0.080565</td>\n      <td>-0.034046</td>\n      <td>0.011123</td>\n      <td>-0.062169</td>\n      <td>0.021101</td>\n      <td>0.045840</td>\n      <td>-0.031499</td>\n      <td>1.000000</td>\n      <td>0.053106</td>\n      <td>0.009153</td>\n      <td>0.149353</td>\n    </tr>\n    <tr>\n      <th>hours.per.week</th>\n      <td>0.068299</td>\n      <td>0.042582</td>\n      <td>-0.018885</td>\n      <td>0.056381</td>\n      <td>0.149417</td>\n      <td>-0.193249</td>\n      <td>-0.012956</td>\n      <td>-0.248907</td>\n      <td>0.045787</td>\n      <td>0.229645</td>\n      <td>0.079112</td>\n      <td>0.053106</td>\n      <td>1.000000</td>\n      <td>0.006238</td>\n      <td>0.230448</td>\n    </tr>\n    <tr>\n      <th>native.country</th>\n      <td>-0.000323</td>\n      <td>-0.001825</td>\n      <td>-0.063954</td>\n      <td>0.077016</td>\n      <td>0.089206</td>\n      <td>-0.021846</td>\n      <td>-0.002652</td>\n      <td>-0.010668</td>\n      <td>0.121527</td>\n      <td>0.001556</td>\n      <td>0.008530</td>\n      <td>0.009153</td>\n      <td>0.006238</td>\n      <td>1.000000</td>\n      <td>0.023179</td>\n    </tr>\n    <tr>\n      <th>income</th>\n      <td>0.233601</td>\n      <td>0.001736</td>\n      <td>-0.009014</td>\n      <td>0.080056</td>\n      <td>0.335883</td>\n      <td>-0.198467</td>\n      <td>0.035885</td>\n      <td>-0.250866</td>\n      <td>0.072713</td>\n      <td>0.216070</td>\n      <td>0.222703</td>\n      <td>0.149353</td>\n      <td>0.230448</td>\n      <td>0.023179</td>\n      <td>1.000000</td>\n    </tr>\n  </tbody>\n</table>\n</div>"
          },
          "metadata": {}
        }
      ]
    },
    {
      "cell_type": "code",
      "source": [
        "X = df[[\"age\", \"workclass\", \"education\", \"education.num\", \"occupation\", \"race\", \"sex\", \"capital.gain\", \"hours.per.week\", \"native.country\"]].values"
      ],
      "metadata": {
        "execution": {
          "iopub.status.busy": "2023-08-14T06:56:54.491460Z",
          "iopub.execute_input": "2023-08-14T06:56:54.492198Z",
          "iopub.status.idle": "2023-08-14T06:56:54.499415Z",
          "shell.execute_reply.started": "2023-08-14T06:56:54.492156Z",
          "shell.execute_reply": "2023-08-14T06:56:54.498407Z"
        },
        "trusted": true,
        "id": "HcD6zLXH75jH"
      },
      "execution_count": null,
      "outputs": []
    },
    {
      "cell_type": "code",
      "source": [
        "Y = df['income'].values"
      ],
      "metadata": {
        "execution": {
          "iopub.status.busy": "2023-08-14T06:58:46.075546Z",
          "iopub.execute_input": "2023-08-14T06:58:46.076056Z",
          "iopub.status.idle": "2023-08-14T06:58:46.080369Z",
          "shell.execute_reply.started": "2023-08-14T06:58:46.076000Z",
          "shell.execute_reply": "2023-08-14T06:58:46.079526Z"
        },
        "trusted": true,
        "id": "XsQYp8R275jH"
      },
      "execution_count": null,
      "outputs": []
    },
    {
      "cell_type": "code",
      "source": [
        "X, Y"
      ],
      "metadata": {
        "execution": {
          "iopub.status.busy": "2023-08-14T06:58:48.570639Z",
          "iopub.execute_input": "2023-08-14T06:58:48.571454Z",
          "iopub.status.idle": "2023-08-14T06:58:48.580531Z",
          "shell.execute_reply.started": "2023-08-14T06:58:48.571408Z",
          "shell.execute_reply": "2023-08-14T06:58:48.579433Z"
        },
        "trusted": true,
        "id": "-AI98S0m75jH",
        "outputId": "77019d24-edcd-480d-9efb-08e79bf38923"
      },
      "execution_count": null,
      "outputs": [
        {
          "execution_count": 45,
          "output_type": "execute_result",
          "data": {
            "text/plain": "(array([[90,  3, 11, ...,  0, 40, 38],\n        [82,  3, 11, ...,  0, 18, 38],\n        [66,  3, 15, ...,  0, 40, 38],\n        ...,\n        [40,  3, 11, ...,  0, 40, 38],\n        [58,  3, 11, ...,  0, 40, 38],\n        [22,  3, 11, ...,  0, 20, 38]]),\n array([0, 0, 0, ..., 1, 0, 0]))"
          },
          "metadata": {}
        }
      ]
    },
    {
      "cell_type": "code",
      "source": [
        "from sklearn.model_selection import train_test_split\n",
        "X_train, X_test, Y_train, Y_test = train_test_split(X, Y, test_size=0.25, random_state=40)"
      ],
      "metadata": {
        "execution": {
          "iopub.status.busy": "2023-08-14T07:11:37.478679Z",
          "iopub.execute_input": "2023-08-14T07:11:37.479775Z",
          "iopub.status.idle": "2023-08-14T07:11:37.489540Z",
          "shell.execute_reply.started": "2023-08-14T07:11:37.479739Z",
          "shell.execute_reply": "2023-08-14T07:11:37.488561Z"
        },
        "trusted": true,
        "id": "5ShoSRd-75jH"
      },
      "execution_count": null,
      "outputs": []
    },
    {
      "cell_type": "code",
      "source": [
        "from sklearn.tree import DecisionTreeClassifier\n",
        "from sklearn.metrics import accuracy_score"
      ],
      "metadata": {
        "execution": {
          "iopub.status.busy": "2023-08-14T07:11:38.833653Z",
          "iopub.execute_input": "2023-08-14T07:11:38.834026Z",
          "iopub.status.idle": "2023-08-14T07:11:38.839145Z",
          "shell.execute_reply.started": "2023-08-14T07:11:38.833994Z",
          "shell.execute_reply": "2023-08-14T07:11:38.837821Z"
        },
        "trusted": true,
        "id": "vP5kPCZ_75jI"
      },
      "execution_count": null,
      "outputs": []
    },
    {
      "cell_type": "code",
      "source": [
        "classifier = DecisionTreeClassifier(criterion = 'gini', random_state = 40)"
      ],
      "metadata": {
        "execution": {
          "iopub.status.busy": "2023-08-14T07:11:41.314284Z",
          "iopub.execute_input": "2023-08-14T07:11:41.314673Z",
          "iopub.status.idle": "2023-08-14T07:11:41.320269Z",
          "shell.execute_reply.started": "2023-08-14T07:11:41.314644Z",
          "shell.execute_reply": "2023-08-14T07:11:41.318794Z"
        },
        "trusted": true,
        "id": "Eb3Zmigv75jJ"
      },
      "execution_count": null,
      "outputs": []
    },
    {
      "cell_type": "code",
      "source": [
        "classifier.fit(X_train, Y_train)"
      ],
      "metadata": {
        "execution": {
          "iopub.status.busy": "2023-08-14T07:11:41.923261Z",
          "iopub.execute_input": "2023-08-14T07:11:41.923655Z",
          "iopub.status.idle": "2023-08-14T07:11:42.016574Z",
          "shell.execute_reply.started": "2023-08-14T07:11:41.923625Z",
          "shell.execute_reply": "2023-08-14T07:11:42.015712Z"
        },
        "trusted": true,
        "id": "Lwx7BE3j75jJ",
        "outputId": "41c8e0d0-9d60-4dac-fe70-fee1ba1f3908"
      },
      "execution_count": null,
      "outputs": [
        {
          "execution_count": 64,
          "output_type": "execute_result",
          "data": {
            "text/plain": "DecisionTreeClassifier(random_state=40)",
            "text/html": "<style>#sk-container-id-3 {color: black;background-color: white;}#sk-container-id-3 pre{padding: 0;}#sk-container-id-3 div.sk-toggleable {background-color: white;}#sk-container-id-3 label.sk-toggleable__label {cursor: pointer;display: block;width: 100%;margin-bottom: 0;padding: 0.3em;box-sizing: border-box;text-align: center;}#sk-container-id-3 label.sk-toggleable__label-arrow:before {content: \"▸\";float: left;margin-right: 0.25em;color: #696969;}#sk-container-id-3 label.sk-toggleable__label-arrow:hover:before {color: black;}#sk-container-id-3 div.sk-estimator:hover label.sk-toggleable__label-arrow:before {color: black;}#sk-container-id-3 div.sk-toggleable__content {max-height: 0;max-width: 0;overflow: hidden;text-align: left;background-color: #f0f8ff;}#sk-container-id-3 div.sk-toggleable__content pre {margin: 0.2em;color: black;border-radius: 0.25em;background-color: #f0f8ff;}#sk-container-id-3 input.sk-toggleable__control:checked~div.sk-toggleable__content {max-height: 200px;max-width: 100%;overflow: auto;}#sk-container-id-3 input.sk-toggleable__control:checked~label.sk-toggleable__label-arrow:before {content: \"▾\";}#sk-container-id-3 div.sk-estimator input.sk-toggleable__control:checked~label.sk-toggleable__label {background-color: #d4ebff;}#sk-container-id-3 div.sk-label input.sk-toggleable__control:checked~label.sk-toggleable__label {background-color: #d4ebff;}#sk-container-id-3 input.sk-hidden--visually {border: 0;clip: rect(1px 1px 1px 1px);clip: rect(1px, 1px, 1px, 1px);height: 1px;margin: -1px;overflow: hidden;padding: 0;position: absolute;width: 1px;}#sk-container-id-3 div.sk-estimator {font-family: monospace;background-color: #f0f8ff;border: 1px dotted black;border-radius: 0.25em;box-sizing: border-box;margin-bottom: 0.5em;}#sk-container-id-3 div.sk-estimator:hover {background-color: #d4ebff;}#sk-container-id-3 div.sk-parallel-item::after {content: \"\";width: 100%;border-bottom: 1px solid gray;flex-grow: 1;}#sk-container-id-3 div.sk-label:hover label.sk-toggleable__label {background-color: #d4ebff;}#sk-container-id-3 div.sk-serial::before {content: \"\";position: absolute;border-left: 1px solid gray;box-sizing: border-box;top: 0;bottom: 0;left: 50%;z-index: 0;}#sk-container-id-3 div.sk-serial {display: flex;flex-direction: column;align-items: center;background-color: white;padding-right: 0.2em;padding-left: 0.2em;position: relative;}#sk-container-id-3 div.sk-item {position: relative;z-index: 1;}#sk-container-id-3 div.sk-parallel {display: flex;align-items: stretch;justify-content: center;background-color: white;position: relative;}#sk-container-id-3 div.sk-item::before, #sk-container-id-3 div.sk-parallel-item::before {content: \"\";position: absolute;border-left: 1px solid gray;box-sizing: border-box;top: 0;bottom: 0;left: 50%;z-index: -1;}#sk-container-id-3 div.sk-parallel-item {display: flex;flex-direction: column;z-index: 1;position: relative;background-color: white;}#sk-container-id-3 div.sk-parallel-item:first-child::after {align-self: flex-end;width: 50%;}#sk-container-id-3 div.sk-parallel-item:last-child::after {align-self: flex-start;width: 50%;}#sk-container-id-3 div.sk-parallel-item:only-child::after {width: 0;}#sk-container-id-3 div.sk-dashed-wrapped {border: 1px dashed gray;margin: 0 0.4em 0.5em 0.4em;box-sizing: border-box;padding-bottom: 0.4em;background-color: white;}#sk-container-id-3 div.sk-label label {font-family: monospace;font-weight: bold;display: inline-block;line-height: 1.2em;}#sk-container-id-3 div.sk-label-container {text-align: center;}#sk-container-id-3 div.sk-container {/* jupyter's `normalize.less` sets `[hidden] { display: none; }` but bootstrap.min.css set `[hidden] { display: none !important; }` so we also need the `!important` here to be able to override the default hidden behavior on the sphinx rendered scikit-learn.org. See: https://github.com/scikit-learn/scikit-learn/issues/21755 */display: inline-block !important;position: relative;}#sk-container-id-3 div.sk-text-repr-fallback {display: none;}</style><div id=\"sk-container-id-3\" class=\"sk-top-container\"><div class=\"sk-text-repr-fallback\"><pre>DecisionTreeClassifier(random_state=40)</pre><b>In a Jupyter environment, please rerun this cell to show the HTML representation or trust the notebook. <br />On GitHub, the HTML representation is unable to render, please try loading this page with nbviewer.org.</b></div><div class=\"sk-container\" hidden><div class=\"sk-item\"><div class=\"sk-estimator sk-toggleable\"><input class=\"sk-toggleable__control sk-hidden--visually\" id=\"sk-estimator-id-3\" type=\"checkbox\" checked><label for=\"sk-estimator-id-3\" class=\"sk-toggleable__label sk-toggleable__label-arrow\">DecisionTreeClassifier</label><div class=\"sk-toggleable__content\"><pre>DecisionTreeClassifier(random_state=40)</pre></div></div></div></div></div>"
          },
          "metadata": {}
        }
      ]
    },
    {
      "cell_type": "code",
      "source": [
        "Y_preds = classifier.predict(X_test)"
      ],
      "metadata": {
        "execution": {
          "iopub.status.busy": "2023-08-14T07:12:06.053484Z",
          "iopub.execute_input": "2023-08-14T07:12:06.054279Z",
          "iopub.status.idle": "2023-08-14T07:12:06.060222Z",
          "shell.execute_reply.started": "2023-08-14T07:12:06.054217Z",
          "shell.execute_reply": "2023-08-14T07:12:06.059476Z"
        },
        "trusted": true,
        "id": "rfULR5cC75jJ"
      },
      "execution_count": null,
      "outputs": []
    },
    {
      "cell_type": "code",
      "source": [
        "accuracy_score(Y_test, Y_preds)"
      ],
      "metadata": {
        "execution": {
          "iopub.status.busy": "2023-08-14T07:12:45.477440Z",
          "iopub.execute_input": "2023-08-14T07:12:45.477813Z",
          "iopub.status.idle": "2023-08-14T07:12:45.487139Z",
          "shell.execute_reply.started": "2023-08-14T07:12:45.477785Z",
          "shell.execute_reply": "2023-08-14T07:12:45.486010Z"
        },
        "trusted": true,
        "id": "shAbaaOm75jJ",
        "outputId": "382d7c68-870c-41b3-bd28-68a14f60370a"
      },
      "execution_count": null,
      "outputs": [
        {
          "execution_count": 66,
          "output_type": "execute_result",
          "data": {
            "text/plain": "0.7883677298311444"
          },
          "metadata": {}
        }
      ]
    },
    {
      "cell_type": "code",
      "source": [],
      "metadata": {
        "id": "DPAYF1uT75jJ"
      },
      "execution_count": null,
      "outputs": []
    }
  ]
}