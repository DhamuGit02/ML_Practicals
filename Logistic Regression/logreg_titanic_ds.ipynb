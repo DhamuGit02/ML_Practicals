{
  "metadata": {
    "kernelspec": {
      "language": "python",
      "display_name": "Python 3",
      "name": "python3"
    },
    "language_info": {
      "name": "python",
      "version": "3.10.12",
      "mimetype": "text/x-python",
      "codemirror_mode": {
        "name": "ipython",
        "version": 3
      },
      "pygments_lexer": "ipython3",
      "nbconvert_exporter": "python",
      "file_extension": ".py"
    },
    "colab": {
      "provenance": []
    }
  },
  "nbformat_minor": 0,
  "nbformat": 4,
  "cells": [
    {
      "cell_type": "code",
      "source": [
        "import pandas as pd\n",
        "import numpy as np"
      ],
      "metadata": {
        "execution": {
          "iopub.status.busy": "2023-08-07T06:05:14.548670Z",
          "iopub.execute_input": "2023-08-07T06:05:14.549107Z",
          "iopub.status.idle": "2023-08-07T06:05:14.578260Z",
          "shell.execute_reply.started": "2023-08-07T06:05:14.549071Z",
          "shell.execute_reply": "2023-08-07T06:05:14.577129Z"
        },
        "trusted": true,
        "id": "w6bCkboV081A"
      },
      "execution_count": null,
      "outputs": []
    },
    {
      "cell_type": "code",
      "source": [
        "df = pd.read_csv(\"/kaggle/input/titanic-datasets/titanic.csv\")\n",
        "df.isnull().sum()"
      ],
      "metadata": {
        "execution": {
          "iopub.status.busy": "2023-08-07T06:42:47.965459Z",
          "iopub.execute_input": "2023-08-07T06:42:47.965886Z",
          "iopub.status.idle": "2023-08-07T06:42:47.989760Z",
          "shell.execute_reply.started": "2023-08-07T06:42:47.965842Z",
          "shell.execute_reply": "2023-08-07T06:42:47.988653Z"
        },
        "trusted": true,
        "id": "DNLZ1Meo081D",
        "outputId": "86215cb8-ecb4-46d5-9310-1bee66327a56"
      },
      "execution_count": null,
      "outputs": [
        {
          "execution_count": 27,
          "output_type": "execute_result",
          "data": {
            "text/plain": "PassengerId      0\nSurvived         0\nPclass           0\nName             0\nSex              0\nAge             86\nSibSp            0\nParch            0\nTicket           0\nFare             1\nCabin          327\nEmbarked         0\ndtype: int64"
          },
          "metadata": {}
        }
      ]
    },
    {
      "cell_type": "code",
      "source": [
        "df.head()"
      ],
      "metadata": {
        "execution": {
          "iopub.status.busy": "2023-08-07T06:06:55.331909Z",
          "iopub.execute_input": "2023-08-07T06:06:55.332467Z",
          "iopub.status.idle": "2023-08-07T06:06:55.362128Z",
          "shell.execute_reply.started": "2023-08-07T06:06:55.332423Z",
          "shell.execute_reply": "2023-08-07T06:06:55.361030Z"
        },
        "trusted": true,
        "id": "vXF8ork4081E",
        "outputId": "0bb30c83-f635-4d47-c031-bb8d72cbc67c"
      },
      "execution_count": null,
      "outputs": [
        {
          "execution_count": 4,
          "output_type": "execute_result",
          "data": {
            "text/plain": "   PassengerId  Survived  Pclass  \\\n0          892         0       3   \n1          893         1       3   \n2          894         0       2   \n3          895         0       3   \n4          896         1       3   \n\n                                           Name     Sex   Age  SibSp  Parch  \\\n0                              Kelly, Mr. James    male  34.5      0      0   \n1              Wilkes, Mrs. James (Ellen Needs)  female  47.0      1      0   \n2                     Myles, Mr. Thomas Francis    male  62.0      0      0   \n3                              Wirz, Mr. Albert    male  27.0      0      0   \n4  Hirvonen, Mrs. Alexander (Helga E Lindqvist)  female  22.0      1      1   \n\n    Ticket     Fare Cabin Embarked  \n0   330911   7.8292   NaN        Q  \n1   363272   7.0000   NaN        S  \n2   240276   9.6875   NaN        Q  \n3   315154   8.6625   NaN        S  \n4  3101298  12.2875   NaN        S  ",
            "text/html": "<div>\n<style scoped>\n    .dataframe tbody tr th:only-of-type {\n        vertical-align: middle;\n    }\n\n    .dataframe tbody tr th {\n        vertical-align: top;\n    }\n\n    .dataframe thead th {\n        text-align: right;\n    }\n</style>\n<table border=\"1\" class=\"dataframe\">\n  <thead>\n    <tr style=\"text-align: right;\">\n      <th></th>\n      <th>PassengerId</th>\n      <th>Survived</th>\n      <th>Pclass</th>\n      <th>Name</th>\n      <th>Sex</th>\n      <th>Age</th>\n      <th>SibSp</th>\n      <th>Parch</th>\n      <th>Ticket</th>\n      <th>Fare</th>\n      <th>Cabin</th>\n      <th>Embarked</th>\n    </tr>\n  </thead>\n  <tbody>\n    <tr>\n      <th>0</th>\n      <td>892</td>\n      <td>0</td>\n      <td>3</td>\n      <td>Kelly, Mr. James</td>\n      <td>male</td>\n      <td>34.5</td>\n      <td>0</td>\n      <td>0</td>\n      <td>330911</td>\n      <td>7.8292</td>\n      <td>NaN</td>\n      <td>Q</td>\n    </tr>\n    <tr>\n      <th>1</th>\n      <td>893</td>\n      <td>1</td>\n      <td>3</td>\n      <td>Wilkes, Mrs. James (Ellen Needs)</td>\n      <td>female</td>\n      <td>47.0</td>\n      <td>1</td>\n      <td>0</td>\n      <td>363272</td>\n      <td>7.0000</td>\n      <td>NaN</td>\n      <td>S</td>\n    </tr>\n    <tr>\n      <th>2</th>\n      <td>894</td>\n      <td>0</td>\n      <td>2</td>\n      <td>Myles, Mr. Thomas Francis</td>\n      <td>male</td>\n      <td>62.0</td>\n      <td>0</td>\n      <td>0</td>\n      <td>240276</td>\n      <td>9.6875</td>\n      <td>NaN</td>\n      <td>Q</td>\n    </tr>\n    <tr>\n      <th>3</th>\n      <td>895</td>\n      <td>0</td>\n      <td>3</td>\n      <td>Wirz, Mr. Albert</td>\n      <td>male</td>\n      <td>27.0</td>\n      <td>0</td>\n      <td>0</td>\n      <td>315154</td>\n      <td>8.6625</td>\n      <td>NaN</td>\n      <td>S</td>\n    </tr>\n    <tr>\n      <th>4</th>\n      <td>896</td>\n      <td>1</td>\n      <td>3</td>\n      <td>Hirvonen, Mrs. Alexander (Helga E Lindqvist)</td>\n      <td>female</td>\n      <td>22.0</td>\n      <td>1</td>\n      <td>1</td>\n      <td>3101298</td>\n      <td>12.2875</td>\n      <td>NaN</td>\n      <td>S</td>\n    </tr>\n  </tbody>\n</table>\n</div>"
          },
          "metadata": {}
        }
      ]
    },
    {
      "cell_type": "code",
      "source": [
        "df.shape"
      ],
      "metadata": {
        "execution": {
          "iopub.status.busy": "2023-08-07T06:07:18.082832Z",
          "iopub.execute_input": "2023-08-07T06:07:18.083238Z",
          "iopub.status.idle": "2023-08-07T06:07:18.090517Z",
          "shell.execute_reply.started": "2023-08-07T06:07:18.083207Z",
          "shell.execute_reply": "2023-08-07T06:07:18.089172Z"
        },
        "trusted": true,
        "id": "K3AEpfQ3081F",
        "outputId": "ebe4f70a-c8ef-466f-d008-1b1bce85d9e4"
      },
      "execution_count": null,
      "outputs": [
        {
          "execution_count": 5,
          "output_type": "execute_result",
          "data": {
            "text/plain": "(418, 12)"
          },
          "metadata": {}
        }
      ]
    },
    {
      "cell_type": "code",
      "source": [
        "df['Age'].max(), df['Age'].min()"
      ],
      "metadata": {
        "execution": {
          "iopub.status.busy": "2023-08-07T06:11:40.710162Z",
          "iopub.execute_input": "2023-08-07T06:11:40.710797Z",
          "iopub.status.idle": "2023-08-07T06:11:40.717047Z",
          "shell.execute_reply.started": "2023-08-07T06:11:40.710763Z",
          "shell.execute_reply": "2023-08-07T06:11:40.716243Z"
        },
        "trusted": true,
        "id": "jrvlsK7f081G",
        "outputId": "93eadff2-e128-4e4b-828b-da5ba1b54799"
      },
      "execution_count": null,
      "outputs": [
        {
          "execution_count": 8,
          "output_type": "execute_result",
          "data": {
            "text/plain": "(76.0, 0.17)"
          },
          "metadata": {}
        }
      ]
    },
    {
      "cell_type": "code",
      "source": [
        "df['Age'].describe()"
      ],
      "metadata": {
        "execution": {
          "iopub.status.busy": "2023-08-07T06:12:12.897254Z",
          "iopub.execute_input": "2023-08-07T06:12:12.897631Z",
          "iopub.status.idle": "2023-08-07T06:12:12.911357Z",
          "shell.execute_reply.started": "2023-08-07T06:12:12.897601Z",
          "shell.execute_reply": "2023-08-07T06:12:12.910494Z"
        },
        "trusted": true,
        "id": "ui3Jsg9P081G",
        "outputId": "51c3dfb9-b7db-4451-a328-8da25b5eb359"
      },
      "execution_count": null,
      "outputs": [
        {
          "execution_count": 9,
          "output_type": "execute_result",
          "data": {
            "text/plain": "count    332.000000\nmean      30.272590\nstd       14.181209\nmin        0.170000\n25%       21.000000\n50%       27.000000\n75%       39.000000\nmax       76.000000\nName: Age, dtype: float64"
          },
          "metadata": {}
        }
      ]
    },
    {
      "cell_type": "code",
      "source": [
        "df['Age'].fillna(value=24.044, inplace=True)"
      ],
      "metadata": {
        "execution": {
          "iopub.status.busy": "2023-08-07T06:42:56.298877Z",
          "iopub.execute_input": "2023-08-07T06:42:56.299258Z",
          "iopub.status.idle": "2023-08-07T06:42:56.305511Z",
          "shell.execute_reply.started": "2023-08-07T06:42:56.299227Z",
          "shell.execute_reply": "2023-08-07T06:42:56.304369Z"
        },
        "trusted": true,
        "id": "Cdh-i_41081H"
      },
      "execution_count": null,
      "outputs": []
    },
    {
      "cell_type": "code",
      "source": [
        "df = df.drop(\"Cabin\", axis=1)"
      ],
      "metadata": {
        "execution": {
          "iopub.status.busy": "2023-08-07T06:42:58.439412Z",
          "iopub.execute_input": "2023-08-07T06:42:58.439802Z",
          "iopub.status.idle": "2023-08-07T06:42:58.447200Z",
          "shell.execute_reply.started": "2023-08-07T06:42:58.439771Z",
          "shell.execute_reply": "2023-08-07T06:42:58.445757Z"
        },
        "trusted": true,
        "id": "NI-IuGYc081H"
      },
      "execution_count": null,
      "outputs": []
    },
    {
      "cell_type": "code",
      "source": [
        "df.head()"
      ],
      "metadata": {
        "execution": {
          "iopub.status.busy": "2023-08-07T06:31:24.538253Z",
          "iopub.execute_input": "2023-08-07T06:31:24.538671Z",
          "iopub.status.idle": "2023-08-07T06:31:24.556285Z",
          "shell.execute_reply.started": "2023-08-07T06:31:24.538637Z",
          "shell.execute_reply": "2023-08-07T06:31:24.554979Z"
        },
        "trusted": true,
        "id": "l203xhUu081H",
        "outputId": "3f7850bb-0fa0-4467-a5e9-ffc2420b5276"
      },
      "execution_count": null,
      "outputs": [
        {
          "execution_count": 17,
          "output_type": "execute_result",
          "data": {
            "text/plain": "   PassengerId  Survived  Pclass  \\\n0          892         0       3   \n1          893         1       3   \n2          894         0       2   \n3          895         0       3   \n4          896         1       3   \n\n                                           Name     Sex   Age  SibSp  Parch  \\\n0                              Kelly, Mr. James    male  34.5      0      0   \n1              Wilkes, Mrs. James (Ellen Needs)  female  47.0      1      0   \n2                     Myles, Mr. Thomas Francis    male  62.0      0      0   \n3                              Wirz, Mr. Albert    male  27.0      0      0   \n4  Hirvonen, Mrs. Alexander (Helga E Lindqvist)  female  22.0      1      1   \n\n    Ticket     Fare Embarked  \n0   330911   7.8292        Q  \n1   363272   7.0000        S  \n2   240276   9.6875        Q  \n3   315154   8.6625        S  \n4  3101298  12.2875        S  ",
            "text/html": "<div>\n<style scoped>\n    .dataframe tbody tr th:only-of-type {\n        vertical-align: middle;\n    }\n\n    .dataframe tbody tr th {\n        vertical-align: top;\n    }\n\n    .dataframe thead th {\n        text-align: right;\n    }\n</style>\n<table border=\"1\" class=\"dataframe\">\n  <thead>\n    <tr style=\"text-align: right;\">\n      <th></th>\n      <th>PassengerId</th>\n      <th>Survived</th>\n      <th>Pclass</th>\n      <th>Name</th>\n      <th>Sex</th>\n      <th>Age</th>\n      <th>SibSp</th>\n      <th>Parch</th>\n      <th>Ticket</th>\n      <th>Fare</th>\n      <th>Embarked</th>\n    </tr>\n  </thead>\n  <tbody>\n    <tr>\n      <th>0</th>\n      <td>892</td>\n      <td>0</td>\n      <td>3</td>\n      <td>Kelly, Mr. James</td>\n      <td>male</td>\n      <td>34.5</td>\n      <td>0</td>\n      <td>0</td>\n      <td>330911</td>\n      <td>7.8292</td>\n      <td>Q</td>\n    </tr>\n    <tr>\n      <th>1</th>\n      <td>893</td>\n      <td>1</td>\n      <td>3</td>\n      <td>Wilkes, Mrs. James (Ellen Needs)</td>\n      <td>female</td>\n      <td>47.0</td>\n      <td>1</td>\n      <td>0</td>\n      <td>363272</td>\n      <td>7.0000</td>\n      <td>S</td>\n    </tr>\n    <tr>\n      <th>2</th>\n      <td>894</td>\n      <td>0</td>\n      <td>2</td>\n      <td>Myles, Mr. Thomas Francis</td>\n      <td>male</td>\n      <td>62.0</td>\n      <td>0</td>\n      <td>0</td>\n      <td>240276</td>\n      <td>9.6875</td>\n      <td>Q</td>\n    </tr>\n    <tr>\n      <th>3</th>\n      <td>895</td>\n      <td>0</td>\n      <td>3</td>\n      <td>Wirz, Mr. Albert</td>\n      <td>male</td>\n      <td>27.0</td>\n      <td>0</td>\n      <td>0</td>\n      <td>315154</td>\n      <td>8.6625</td>\n      <td>S</td>\n    </tr>\n    <tr>\n      <th>4</th>\n      <td>896</td>\n      <td>1</td>\n      <td>3</td>\n      <td>Hirvonen, Mrs. Alexander (Helga E Lindqvist)</td>\n      <td>female</td>\n      <td>22.0</td>\n      <td>1</td>\n      <td>1</td>\n      <td>3101298</td>\n      <td>12.2875</td>\n      <td>S</td>\n    </tr>\n  </tbody>\n</table>\n</div>"
          },
          "metadata": {}
        }
      ]
    },
    {
      "cell_type": "code",
      "source": [
        "from sklearn import preprocessing\n",
        "label_encoder = preprocessing.LabelEncoder()\n",
        "df['Embarked']= label_encoder.fit_transform(df['Embarked'])\n",
        "df.head()"
      ],
      "metadata": {
        "execution": {
          "iopub.status.busy": "2023-08-07T06:43:03.644775Z",
          "iopub.execute_input": "2023-08-07T06:43:03.645182Z",
          "iopub.status.idle": "2023-08-07T06:43:03.664346Z",
          "shell.execute_reply.started": "2023-08-07T06:43:03.645149Z",
          "shell.execute_reply": "2023-08-07T06:43:03.663098Z"
        },
        "trusted": true,
        "id": "2ZpxRGR4081I",
        "outputId": "f9d2eed9-77c5-4520-f0f5-0d385b46a83a"
      },
      "execution_count": null,
      "outputs": [
        {
          "execution_count": 30,
          "output_type": "execute_result",
          "data": {
            "text/plain": "   PassengerId  Survived  Pclass  \\\n0          892         0       3   \n1          893         1       3   \n2          894         0       2   \n3          895         0       3   \n4          896         1       3   \n\n                                           Name     Sex   Age  SibSp  Parch  \\\n0                              Kelly, Mr. James    male  34.5      0      0   \n1              Wilkes, Mrs. James (Ellen Needs)  female  47.0      1      0   \n2                     Myles, Mr. Thomas Francis    male  62.0      0      0   \n3                              Wirz, Mr. Albert    male  27.0      0      0   \n4  Hirvonen, Mrs. Alexander (Helga E Lindqvist)  female  22.0      1      1   \n\n    Ticket     Fare  Embarked  \n0   330911   7.8292         1  \n1   363272   7.0000         2  \n2   240276   9.6875         1  \n3   315154   8.6625         2  \n4  3101298  12.2875         2  ",
            "text/html": "<div>\n<style scoped>\n    .dataframe tbody tr th:only-of-type {\n        vertical-align: middle;\n    }\n\n    .dataframe tbody tr th {\n        vertical-align: top;\n    }\n\n    .dataframe thead th {\n        text-align: right;\n    }\n</style>\n<table border=\"1\" class=\"dataframe\">\n  <thead>\n    <tr style=\"text-align: right;\">\n      <th></th>\n      <th>PassengerId</th>\n      <th>Survived</th>\n      <th>Pclass</th>\n      <th>Name</th>\n      <th>Sex</th>\n      <th>Age</th>\n      <th>SibSp</th>\n      <th>Parch</th>\n      <th>Ticket</th>\n      <th>Fare</th>\n      <th>Embarked</th>\n    </tr>\n  </thead>\n  <tbody>\n    <tr>\n      <th>0</th>\n      <td>892</td>\n      <td>0</td>\n      <td>3</td>\n      <td>Kelly, Mr. James</td>\n      <td>male</td>\n      <td>34.5</td>\n      <td>0</td>\n      <td>0</td>\n      <td>330911</td>\n      <td>7.8292</td>\n      <td>1</td>\n    </tr>\n    <tr>\n      <th>1</th>\n      <td>893</td>\n      <td>1</td>\n      <td>3</td>\n      <td>Wilkes, Mrs. James (Ellen Needs)</td>\n      <td>female</td>\n      <td>47.0</td>\n      <td>1</td>\n      <td>0</td>\n      <td>363272</td>\n      <td>7.0000</td>\n      <td>2</td>\n    </tr>\n    <tr>\n      <th>2</th>\n      <td>894</td>\n      <td>0</td>\n      <td>2</td>\n      <td>Myles, Mr. Thomas Francis</td>\n      <td>male</td>\n      <td>62.0</td>\n      <td>0</td>\n      <td>0</td>\n      <td>240276</td>\n      <td>9.6875</td>\n      <td>1</td>\n    </tr>\n    <tr>\n      <th>3</th>\n      <td>895</td>\n      <td>0</td>\n      <td>3</td>\n      <td>Wirz, Mr. Albert</td>\n      <td>male</td>\n      <td>27.0</td>\n      <td>0</td>\n      <td>0</td>\n      <td>315154</td>\n      <td>8.6625</td>\n      <td>2</td>\n    </tr>\n    <tr>\n      <th>4</th>\n      <td>896</td>\n      <td>1</td>\n      <td>3</td>\n      <td>Hirvonen, Mrs. Alexander (Helga E Lindqvist)</td>\n      <td>female</td>\n      <td>22.0</td>\n      <td>1</td>\n      <td>1</td>\n      <td>3101298</td>\n      <td>12.2875</td>\n      <td>2</td>\n    </tr>\n  </tbody>\n</table>\n</div>"
          },
          "metadata": {}
        }
      ]
    },
    {
      "cell_type": "code",
      "source": [
        "df = df.drop([\"Name\", \"Ticket\"], axis=1)"
      ],
      "metadata": {
        "execution": {
          "iopub.status.busy": "2023-08-07T06:43:21.625213Z",
          "iopub.execute_input": "2023-08-07T06:43:21.625621Z",
          "iopub.status.idle": "2023-08-07T06:43:21.632088Z",
          "shell.execute_reply.started": "2023-08-07T06:43:21.625586Z",
          "shell.execute_reply": "2023-08-07T06:43:21.630794Z"
        },
        "trusted": true,
        "id": "TMTH-VPf081J"
      },
      "execution_count": null,
      "outputs": []
    },
    {
      "cell_type": "code",
      "source": [
        "\n",
        "df.head()"
      ],
      "metadata": {
        "execution": {
          "iopub.status.busy": "2023-08-07T06:43:27.579605Z",
          "iopub.execute_input": "2023-08-07T06:43:27.580037Z",
          "iopub.status.idle": "2023-08-07T06:43:27.597890Z",
          "shell.execute_reply.started": "2023-08-07T06:43:27.580000Z",
          "shell.execute_reply": "2023-08-07T06:43:27.596468Z"
        },
        "trusted": true,
        "id": "1oKrwl-M081J",
        "outputId": "dd2e5a97-c6e5-4c84-b73c-7622ef06d14b"
      },
      "execution_count": null,
      "outputs": [
        {
          "execution_count": 32,
          "output_type": "execute_result",
          "data": {
            "text/plain": "   PassengerId  Survived  Pclass  Sex   Age  SibSp  Parch     Fare  Embarked\n0          892         0       3    1  34.5      0      0   7.8292         1\n1          893         1       3    0  47.0      1      0   7.0000         2\n2          894         0       2    1  62.0      0      0   9.6875         1\n3          895         0       3    1  27.0      0      0   8.6625         2\n4          896         1       3    0  22.0      1      1  12.2875         2",
            "text/html": "<div>\n<style scoped>\n    .dataframe tbody tr th:only-of-type {\n        vertical-align: middle;\n    }\n\n    .dataframe tbody tr th {\n        vertical-align: top;\n    }\n\n    .dataframe thead th {\n        text-align: right;\n    }\n</style>\n<table border=\"1\" class=\"dataframe\">\n  <thead>\n    <tr style=\"text-align: right;\">\n      <th></th>\n      <th>PassengerId</th>\n      <th>Survived</th>\n      <th>Pclass</th>\n      <th>Sex</th>\n      <th>Age</th>\n      <th>SibSp</th>\n      <th>Parch</th>\n      <th>Fare</th>\n      <th>Embarked</th>\n    </tr>\n  </thead>\n  <tbody>\n    <tr>\n      <th>0</th>\n      <td>892</td>\n      <td>0</td>\n      <td>3</td>\n      <td>1</td>\n      <td>34.5</td>\n      <td>0</td>\n      <td>0</td>\n      <td>7.8292</td>\n      <td>1</td>\n    </tr>\n    <tr>\n      <th>1</th>\n      <td>893</td>\n      <td>1</td>\n      <td>3</td>\n      <td>0</td>\n      <td>47.0</td>\n      <td>1</td>\n      <td>0</td>\n      <td>7.0000</td>\n      <td>2</td>\n    </tr>\n    <tr>\n      <th>2</th>\n      <td>894</td>\n      <td>0</td>\n      <td>2</td>\n      <td>1</td>\n      <td>62.0</td>\n      <td>0</td>\n      <td>0</td>\n      <td>9.6875</td>\n      <td>1</td>\n    </tr>\n    <tr>\n      <th>3</th>\n      <td>895</td>\n      <td>0</td>\n      <td>3</td>\n      <td>1</td>\n      <td>27.0</td>\n      <td>0</td>\n      <td>0</td>\n      <td>8.6625</td>\n      <td>2</td>\n    </tr>\n    <tr>\n      <th>4</th>\n      <td>896</td>\n      <td>1</td>\n      <td>3</td>\n      <td>0</td>\n      <td>22.0</td>\n      <td>1</td>\n      <td>1</td>\n      <td>12.2875</td>\n      <td>2</td>\n    </tr>\n  </tbody>\n</table>\n</div>"
          },
          "metadata": {}
        }
      ]
    },
    {
      "cell_type": "code",
      "source": [
        "df.isnull().sum()"
      ],
      "metadata": {
        "execution": {
          "iopub.status.busy": "2023-08-07T06:43:29.961710Z",
          "iopub.execute_input": "2023-08-07T06:43:29.962684Z",
          "iopub.status.idle": "2023-08-07T06:43:29.972710Z",
          "shell.execute_reply.started": "2023-08-07T06:43:29.962644Z",
          "shell.execute_reply": "2023-08-07T06:43:29.971135Z"
        },
        "trusted": true,
        "id": "MGkseHKR081J",
        "outputId": "39796451-c02e-46e5-9ef5-9e1fe7d52a33"
      },
      "execution_count": null,
      "outputs": [
        {
          "execution_count": 33,
          "output_type": "execute_result",
          "data": {
            "text/plain": "PassengerId    0\nSurvived       0\nPclass         0\nSex            0\nAge            0\nSibSp          0\nParch          0\nFare           1\nEmbarked       0\ndtype: int64"
          },
          "metadata": {}
        }
      ]
    },
    {
      "cell_type": "code",
      "source": [
        "df.dropna(inplace=True)"
      ],
      "metadata": {
        "execution": {
          "iopub.status.busy": "2023-08-07T06:44:28.361905Z",
          "iopub.execute_input": "2023-08-07T06:44:28.362313Z",
          "iopub.status.idle": "2023-08-07T06:44:28.368540Z",
          "shell.execute_reply.started": "2023-08-07T06:44:28.362281Z",
          "shell.execute_reply": "2023-08-07T06:44:28.367368Z"
        },
        "trusted": true,
        "id": "_iE_yipV081K"
      },
      "execution_count": null,
      "outputs": []
    },
    {
      "cell_type": "code",
      "source": [
        "df.isnull().sum()"
      ],
      "metadata": {
        "execution": {
          "iopub.status.busy": "2023-08-07T06:44:29.289362Z",
          "iopub.execute_input": "2023-08-07T06:44:29.289765Z",
          "iopub.status.idle": "2023-08-07T06:44:29.298457Z",
          "shell.execute_reply.started": "2023-08-07T06:44:29.289732Z",
          "shell.execute_reply": "2023-08-07T06:44:29.297583Z"
        },
        "trusted": true,
        "id": "7i_sMojX081K",
        "outputId": "d7d33245-51d5-488e-ca6c-fd50bb60265c"
      },
      "execution_count": null,
      "outputs": [
        {
          "execution_count": 38,
          "output_type": "execute_result",
          "data": {
            "text/plain": "PassengerId    0\nSurvived       0\nPclass         0\nSex            0\nAge            0\nSibSp          0\nParch          0\nFare           0\nEmbarked       0\ndtype: int64"
          },
          "metadata": {}
        }
      ]
    },
    {
      "cell_type": "code",
      "source": [
        "df.head()"
      ],
      "metadata": {
        "execution": {
          "iopub.status.busy": "2023-08-07T06:44:32.089385Z",
          "iopub.execute_input": "2023-08-07T06:44:32.089787Z",
          "iopub.status.idle": "2023-08-07T06:44:32.104566Z",
          "shell.execute_reply.started": "2023-08-07T06:44:32.089752Z",
          "shell.execute_reply": "2023-08-07T06:44:32.103044Z"
        },
        "trusted": true,
        "id": "r_aTK9ck081K",
        "outputId": "12196640-6a62-4048-f4bb-84f64e9bede4"
      },
      "execution_count": null,
      "outputs": [
        {
          "execution_count": 39,
          "output_type": "execute_result",
          "data": {
            "text/plain": "   PassengerId  Survived  Pclass  Sex   Age  SibSp  Parch     Fare  Embarked\n0          892         0       3    1  34.5      0      0   7.8292         1\n1          893         1       3    0  47.0      1      0   7.0000         2\n2          894         0       2    1  62.0      0      0   9.6875         1\n3          895         0       3    1  27.0      0      0   8.6625         2\n4          896         1       3    0  22.0      1      1  12.2875         2",
            "text/html": "<div>\n<style scoped>\n    .dataframe tbody tr th:only-of-type {\n        vertical-align: middle;\n    }\n\n    .dataframe tbody tr th {\n        vertical-align: top;\n    }\n\n    .dataframe thead th {\n        text-align: right;\n    }\n</style>\n<table border=\"1\" class=\"dataframe\">\n  <thead>\n    <tr style=\"text-align: right;\">\n      <th></th>\n      <th>PassengerId</th>\n      <th>Survived</th>\n      <th>Pclass</th>\n      <th>Sex</th>\n      <th>Age</th>\n      <th>SibSp</th>\n      <th>Parch</th>\n      <th>Fare</th>\n      <th>Embarked</th>\n    </tr>\n  </thead>\n  <tbody>\n    <tr>\n      <th>0</th>\n      <td>892</td>\n      <td>0</td>\n      <td>3</td>\n      <td>1</td>\n      <td>34.5</td>\n      <td>0</td>\n      <td>0</td>\n      <td>7.8292</td>\n      <td>1</td>\n    </tr>\n    <tr>\n      <th>1</th>\n      <td>893</td>\n      <td>1</td>\n      <td>3</td>\n      <td>0</td>\n      <td>47.0</td>\n      <td>1</td>\n      <td>0</td>\n      <td>7.0000</td>\n      <td>2</td>\n    </tr>\n    <tr>\n      <th>2</th>\n      <td>894</td>\n      <td>0</td>\n      <td>2</td>\n      <td>1</td>\n      <td>62.0</td>\n      <td>0</td>\n      <td>0</td>\n      <td>9.6875</td>\n      <td>1</td>\n    </tr>\n    <tr>\n      <th>3</th>\n      <td>895</td>\n      <td>0</td>\n      <td>3</td>\n      <td>1</td>\n      <td>27.0</td>\n      <td>0</td>\n      <td>0</td>\n      <td>8.6625</td>\n      <td>2</td>\n    </tr>\n    <tr>\n      <th>4</th>\n      <td>896</td>\n      <td>1</td>\n      <td>3</td>\n      <td>0</td>\n      <td>22.0</td>\n      <td>1</td>\n      <td>1</td>\n      <td>12.2875</td>\n      <td>2</td>\n    </tr>\n  </tbody>\n</table>\n</div>"
          },
          "metadata": {}
        }
      ]
    },
    {
      "cell_type": "code",
      "source": [
        "df.corr()"
      ],
      "metadata": {
        "execution": {
          "iopub.status.busy": "2023-08-07T06:44:37.128260Z",
          "iopub.execute_input": "2023-08-07T06:44:37.128771Z",
          "iopub.status.idle": "2023-08-07T06:44:37.156108Z",
          "shell.execute_reply.started": "2023-08-07T06:44:37.128727Z",
          "shell.execute_reply": "2023-08-07T06:44:37.154746Z"
        },
        "trusted": true,
        "id": "mvnQedwI081L",
        "outputId": "9266ce40-ef7a-45bf-a982-9750ed3ff2d8"
      },
      "execution_count": null,
      "outputs": [
        {
          "execution_count": 40,
          "output_type": "execute_result",
          "data": {
            "text/plain": "             PassengerId  Survived    Pclass       Sex       Age     SibSp  \\\nPassengerId     1.000000 -0.024117 -0.025800  0.024117 -0.029137  0.003259   \nSurvived       -0.024117  1.000000 -0.107203 -1.000000  0.019683  0.099136   \nPclass         -0.025800 -0.107203  1.000000  0.107203 -0.496738  0.002136   \nSex             0.024117 -1.000000  0.107203  1.000000 -0.019683 -0.099136   \nAge            -0.029137  0.019683 -0.496738 -0.019683  1.000000 -0.060687   \nSibSp           0.003259  0.099136  0.002136 -0.099136 -0.060687  1.000000   \nParch           0.042650  0.158534  0.019581 -0.158534 -0.040091  0.306566   \nFare            0.008211  0.191514 -0.577147 -0.191514  0.359879  0.171539   \nEmbarked        0.041521 -0.075106  0.226856  0.075106 -0.143126  0.053595   \n\n                Parch      Fare  Embarked  \nPassengerId  0.042650  0.008211  0.041521  \nSurvived     0.158534  0.191514 -0.075106  \nPclass       0.019581 -0.577147  0.226856  \nSex         -0.158534 -0.191514  0.075106  \nAge         -0.040091  0.359879 -0.143126  \nSibSp        0.306566  0.171539  0.053595  \nParch        1.000000  0.230046  0.055293  \nFare         0.230046  1.000000 -0.257183  \nEmbarked     0.055293 -0.257183  1.000000  ",
            "text/html": "<div>\n<style scoped>\n    .dataframe tbody tr th:only-of-type {\n        vertical-align: middle;\n    }\n\n    .dataframe tbody tr th {\n        vertical-align: top;\n    }\n\n    .dataframe thead th {\n        text-align: right;\n    }\n</style>\n<table border=\"1\" class=\"dataframe\">\n  <thead>\n    <tr style=\"text-align: right;\">\n      <th></th>\n      <th>PassengerId</th>\n      <th>Survived</th>\n      <th>Pclass</th>\n      <th>Sex</th>\n      <th>Age</th>\n      <th>SibSp</th>\n      <th>Parch</th>\n      <th>Fare</th>\n      <th>Embarked</th>\n    </tr>\n  </thead>\n  <tbody>\n    <tr>\n      <th>PassengerId</th>\n      <td>1.000000</td>\n      <td>-0.024117</td>\n      <td>-0.025800</td>\n      <td>0.024117</td>\n      <td>-0.029137</td>\n      <td>0.003259</td>\n      <td>0.042650</td>\n      <td>0.008211</td>\n      <td>0.041521</td>\n    </tr>\n    <tr>\n      <th>Survived</th>\n      <td>-0.024117</td>\n      <td>1.000000</td>\n      <td>-0.107203</td>\n      <td>-1.000000</td>\n      <td>0.019683</td>\n      <td>0.099136</td>\n      <td>0.158534</td>\n      <td>0.191514</td>\n      <td>-0.075106</td>\n    </tr>\n    <tr>\n      <th>Pclass</th>\n      <td>-0.025800</td>\n      <td>-0.107203</td>\n      <td>1.000000</td>\n      <td>0.107203</td>\n      <td>-0.496738</td>\n      <td>0.002136</td>\n      <td>0.019581</td>\n      <td>-0.577147</td>\n      <td>0.226856</td>\n    </tr>\n    <tr>\n      <th>Sex</th>\n      <td>0.024117</td>\n      <td>-1.000000</td>\n      <td>0.107203</td>\n      <td>1.000000</td>\n      <td>-0.019683</td>\n      <td>-0.099136</td>\n      <td>-0.158534</td>\n      <td>-0.191514</td>\n      <td>0.075106</td>\n    </tr>\n    <tr>\n      <th>Age</th>\n      <td>-0.029137</td>\n      <td>0.019683</td>\n      <td>-0.496738</td>\n      <td>-0.019683</td>\n      <td>1.000000</td>\n      <td>-0.060687</td>\n      <td>-0.040091</td>\n      <td>0.359879</td>\n      <td>-0.143126</td>\n    </tr>\n    <tr>\n      <th>SibSp</th>\n      <td>0.003259</td>\n      <td>0.099136</td>\n      <td>0.002136</td>\n      <td>-0.099136</td>\n      <td>-0.060687</td>\n      <td>1.000000</td>\n      <td>0.306566</td>\n      <td>0.171539</td>\n      <td>0.053595</td>\n    </tr>\n    <tr>\n      <th>Parch</th>\n      <td>0.042650</td>\n      <td>0.158534</td>\n      <td>0.019581</td>\n      <td>-0.158534</td>\n      <td>-0.040091</td>\n      <td>0.306566</td>\n      <td>1.000000</td>\n      <td>0.230046</td>\n      <td>0.055293</td>\n    </tr>\n    <tr>\n      <th>Fare</th>\n      <td>0.008211</td>\n      <td>0.191514</td>\n      <td>-0.577147</td>\n      <td>-0.191514</td>\n      <td>0.359879</td>\n      <td>0.171539</td>\n      <td>0.230046</td>\n      <td>1.000000</td>\n      <td>-0.257183</td>\n    </tr>\n    <tr>\n      <th>Embarked</th>\n      <td>0.041521</td>\n      <td>-0.075106</td>\n      <td>0.226856</td>\n      <td>0.075106</td>\n      <td>-0.143126</td>\n      <td>0.053595</td>\n      <td>0.055293</td>\n      <td>-0.257183</td>\n      <td>1.000000</td>\n    </tr>\n  </tbody>\n</table>\n</div>"
          },
          "metadata": {}
        }
      ]
    },
    {
      "cell_type": "code",
      "source": [
        "X = df[[\"Pclass\", \"Sex\", \"SibSp\", \"Parch\", \"Fare\", \"Embarked\"]].values\n",
        "Y = df[\"Survived\"].values\n",
        "X, Y"
      ],
      "metadata": {
        "execution": {
          "iopub.status.busy": "2023-08-07T06:51:02.987026Z",
          "iopub.execute_input": "2023-08-07T06:51:02.987584Z",
          "iopub.status.idle": "2023-08-07T06:51:03.002394Z",
          "shell.execute_reply.started": "2023-08-07T06:51:02.987549Z",
          "shell.execute_reply": "2023-08-07T06:51:03.000330Z"
        },
        "trusted": true,
        "id": "FToAWBC3081L",
        "outputId": "27194d5f-7055-4ce0-cc2b-c56a852d6afb"
      },
      "execution_count": null,
      "outputs": [
        {
          "execution_count": 41,
          "output_type": "execute_result",
          "data": {
            "text/plain": "(array([[ 3.    ,  1.    ,  0.    ,  0.    ,  7.8292,  1.    ],\n        [ 3.    ,  0.    ,  1.    ,  0.    ,  7.    ,  2.    ],\n        [ 2.    ,  1.    ,  0.    ,  0.    ,  9.6875,  1.    ],\n        ...,\n        [ 3.    ,  1.    ,  0.    ,  0.    ,  7.25  ,  2.    ],\n        [ 3.    ,  1.    ,  0.    ,  0.    ,  8.05  ,  2.    ],\n        [ 3.    ,  1.    ,  1.    ,  1.    , 22.3583,  0.    ]]),\n array([0, 1, 0, 0, 1, 0, 1, 0, 1, 0, 0, 0, 1, 0, 1, 1, 0, 0, 1, 1, 0, 0,\n        1, 0, 1, 0, 1, 0, 0, 0, 0, 0, 1, 1, 0, 0, 1, 1, 0, 0, 0, 0, 0, 1,\n        1, 0, 0, 0, 1, 1, 0, 0, 1, 1, 0, 0, 0, 0, 0, 1, 0, 0, 0, 1, 0, 1,\n        1, 0, 0, 1, 1, 0, 1, 0, 1, 0, 0, 1, 0, 1, 0, 0, 0, 0, 0, 0, 1, 1,\n        1, 0, 1, 0, 1, 0, 0, 0, 1, 0, 1, 0, 1, 0, 0, 0, 1, 0, 0, 0, 0, 0,\n        0, 1, 1, 1, 1, 0, 0, 1, 0, 1, 1, 0, 1, 0, 0, 1, 0, 1, 0, 0, 0, 0,\n        1, 0, 0, 0, 0, 0, 1, 0, 1, 1, 0, 0, 0, 0, 0, 0, 0, 0, 1, 0, 1, 0,\n        0, 1, 1, 0, 1, 1, 0, 1, 0, 0, 1, 0, 0, 1, 1, 0, 0, 0, 0, 0, 1, 1,\n        0, 1, 1, 0, 0, 1, 0, 1, 0, 1, 0, 1, 0, 0, 0, 0, 0, 0, 0, 0, 1, 0,\n        1, 1, 0, 0, 1, 0, 0, 1, 0, 1, 0, 0, 0, 0, 1, 1, 0, 1, 0, 1, 0, 1,\n        0, 1, 0, 1, 1, 0, 1, 0, 0, 0, 1, 0, 0, 0, 0, 0, 0, 1, 1, 1, 1, 0,\n        0, 0, 0, 1, 0, 1, 1, 1, 0, 0, 0, 0, 0, 0, 0, 1, 0, 0, 0, 1, 1, 0,\n        0, 0, 0, 1, 0, 0, 0, 1, 1, 0, 1, 0, 0, 0, 0, 1, 0, 1, 1, 1, 0, 0,\n        0, 0, 0, 0, 1, 0, 0, 0, 0, 1, 0, 0, 0, 0, 0, 0, 0, 1, 1, 0, 0, 0,\n        1, 0, 0, 0, 1, 1, 1, 0, 0, 0, 0, 0, 0, 0, 0, 1, 0, 1, 0, 0, 0, 1,\n        0, 0, 1, 0, 0, 0, 0, 0, 0, 0, 0, 0, 1, 0, 1, 0, 1, 0, 1, 1, 0, 0,\n        0, 1, 0, 1, 0, 0, 1, 0, 1, 1, 0, 1, 1, 0, 1, 1, 0, 0, 1, 0, 0, 1,\n        1, 1, 0, 0, 0, 0, 0, 1, 1, 0, 1, 0, 0, 0, 0, 0, 1, 0, 0, 0, 1, 0,\n        1, 0, 0, 1, 0, 1, 0, 0, 0, 0, 0, 1, 1, 1, 1, 1, 0, 1, 0, 0, 0]))"
          },
          "metadata": {}
        }
      ]
    },
    {
      "cell_type": "code",
      "source": [
        "from sklearn.model_selection import train_test_split\n",
        "from sklearn.linear_model import LogisticRegression"
      ],
      "metadata": {
        "execution": {
          "iopub.status.busy": "2023-08-07T06:52:01.574466Z",
          "iopub.execute_input": "2023-08-07T06:52:01.574926Z",
          "iopub.status.idle": "2023-08-07T06:52:01.807604Z",
          "shell.execute_reply.started": "2023-08-07T06:52:01.574879Z",
          "shell.execute_reply": "2023-08-07T06:52:01.806311Z"
        },
        "trusted": true,
        "id": "mx_hC7aZ081M"
      },
      "execution_count": null,
      "outputs": []
    },
    {
      "cell_type": "code",
      "source": [
        "X_train, X_test, Y_train, Y_test = train_test_split(X, Y, test_size=0.25, random_state=42)"
      ],
      "metadata": {
        "execution": {
          "iopub.status.busy": "2023-08-07T06:53:21.062054Z",
          "iopub.execute_input": "2023-08-07T06:53:21.062446Z",
          "iopub.status.idle": "2023-08-07T06:53:21.069604Z",
          "shell.execute_reply.started": "2023-08-07T06:53:21.062416Z",
          "shell.execute_reply": "2023-08-07T06:53:21.068442Z"
        },
        "trusted": true,
        "id": "tr_FukOV081M"
      },
      "execution_count": null,
      "outputs": []
    },
    {
      "cell_type": "code",
      "source": [
        "model = LogisticRegression()\n",
        "model.fit(X_train, Y_train)"
      ],
      "metadata": {
        "execution": {
          "iopub.status.busy": "2023-08-07T06:55:00.342404Z",
          "iopub.execute_input": "2023-08-07T06:55:00.342788Z",
          "iopub.status.idle": "2023-08-07T06:55:00.370763Z",
          "shell.execute_reply.started": "2023-08-07T06:55:00.342757Z",
          "shell.execute_reply": "2023-08-07T06:55:00.369678Z"
        },
        "trusted": true,
        "id": "EuszWPKu081M",
        "outputId": "9732dde8-8ba1-4e97-bbe2-84d36b9408af"
      },
      "execution_count": null,
      "outputs": [
        {
          "execution_count": 45,
          "output_type": "execute_result",
          "data": {
            "text/plain": "LogisticRegression()",
            "text/html": "<style>#sk-container-id-2 {color: black;background-color: white;}#sk-container-id-2 pre{padding: 0;}#sk-container-id-2 div.sk-toggleable {background-color: white;}#sk-container-id-2 label.sk-toggleable__label {cursor: pointer;display: block;width: 100%;margin-bottom: 0;padding: 0.3em;box-sizing: border-box;text-align: center;}#sk-container-id-2 label.sk-toggleable__label-arrow:before {content: \"▸\";float: left;margin-right: 0.25em;color: #696969;}#sk-container-id-2 label.sk-toggleable__label-arrow:hover:before {color: black;}#sk-container-id-2 div.sk-estimator:hover label.sk-toggleable__label-arrow:before {color: black;}#sk-container-id-2 div.sk-toggleable__content {max-height: 0;max-width: 0;overflow: hidden;text-align: left;background-color: #f0f8ff;}#sk-container-id-2 div.sk-toggleable__content pre {margin: 0.2em;color: black;border-radius: 0.25em;background-color: #f0f8ff;}#sk-container-id-2 input.sk-toggleable__control:checked~div.sk-toggleable__content {max-height: 200px;max-width: 100%;overflow: auto;}#sk-container-id-2 input.sk-toggleable__control:checked~label.sk-toggleable__label-arrow:before {content: \"▾\";}#sk-container-id-2 div.sk-estimator input.sk-toggleable__control:checked~label.sk-toggleable__label {background-color: #d4ebff;}#sk-container-id-2 div.sk-label input.sk-toggleable__control:checked~label.sk-toggleable__label {background-color: #d4ebff;}#sk-container-id-2 input.sk-hidden--visually {border: 0;clip: rect(1px 1px 1px 1px);clip: rect(1px, 1px, 1px, 1px);height: 1px;margin: -1px;overflow: hidden;padding: 0;position: absolute;width: 1px;}#sk-container-id-2 div.sk-estimator {font-family: monospace;background-color: #f0f8ff;border: 1px dotted black;border-radius: 0.25em;box-sizing: border-box;margin-bottom: 0.5em;}#sk-container-id-2 div.sk-estimator:hover {background-color: #d4ebff;}#sk-container-id-2 div.sk-parallel-item::after {content: \"\";width: 100%;border-bottom: 1px solid gray;flex-grow: 1;}#sk-container-id-2 div.sk-label:hover label.sk-toggleable__label {background-color: #d4ebff;}#sk-container-id-2 div.sk-serial::before {content: \"\";position: absolute;border-left: 1px solid gray;box-sizing: border-box;top: 0;bottom: 0;left: 50%;z-index: 0;}#sk-container-id-2 div.sk-serial {display: flex;flex-direction: column;align-items: center;background-color: white;padding-right: 0.2em;padding-left: 0.2em;position: relative;}#sk-container-id-2 div.sk-item {position: relative;z-index: 1;}#sk-container-id-2 div.sk-parallel {display: flex;align-items: stretch;justify-content: center;background-color: white;position: relative;}#sk-container-id-2 div.sk-item::before, #sk-container-id-2 div.sk-parallel-item::before {content: \"\";position: absolute;border-left: 1px solid gray;box-sizing: border-box;top: 0;bottom: 0;left: 50%;z-index: -1;}#sk-container-id-2 div.sk-parallel-item {display: flex;flex-direction: column;z-index: 1;position: relative;background-color: white;}#sk-container-id-2 div.sk-parallel-item:first-child::after {align-self: flex-end;width: 50%;}#sk-container-id-2 div.sk-parallel-item:last-child::after {align-self: flex-start;width: 50%;}#sk-container-id-2 div.sk-parallel-item:only-child::after {width: 0;}#sk-container-id-2 div.sk-dashed-wrapped {border: 1px dashed gray;margin: 0 0.4em 0.5em 0.4em;box-sizing: border-box;padding-bottom: 0.4em;background-color: white;}#sk-container-id-2 div.sk-label label {font-family: monospace;font-weight: bold;display: inline-block;line-height: 1.2em;}#sk-container-id-2 div.sk-label-container {text-align: center;}#sk-container-id-2 div.sk-container {/* jupyter's `normalize.less` sets `[hidden] { display: none; }` but bootstrap.min.css set `[hidden] { display: none !important; }` so we also need the `!important` here to be able to override the default hidden behavior on the sphinx rendered scikit-learn.org. See: https://github.com/scikit-learn/scikit-learn/issues/21755 */display: inline-block !important;position: relative;}#sk-container-id-2 div.sk-text-repr-fallback {display: none;}</style><div id=\"sk-container-id-2\" class=\"sk-top-container\"><div class=\"sk-text-repr-fallback\"><pre>LogisticRegression()</pre><b>In a Jupyter environment, please rerun this cell to show the HTML representation or trust the notebook. <br />On GitHub, the HTML representation is unable to render, please try loading this page with nbviewer.org.</b></div><div class=\"sk-container\" hidden><div class=\"sk-item\"><div class=\"sk-estimator sk-toggleable\"><input class=\"sk-toggleable__control sk-hidden--visually\" id=\"sk-estimator-id-2\" type=\"checkbox\" checked><label for=\"sk-estimator-id-2\" class=\"sk-toggleable__label sk-toggleable__label-arrow\">LogisticRegression</label><div class=\"sk-toggleable__content\"><pre>LogisticRegression()</pre></div></div></div></div></div>"
          },
          "metadata": {}
        }
      ]
    },
    {
      "cell_type": "code",
      "source": [
        "Y_preds = model.predict(X_test)"
      ],
      "metadata": {
        "execution": {
          "iopub.status.busy": "2023-08-07T06:55:08.789097Z",
          "iopub.execute_input": "2023-08-07T06:55:08.789481Z",
          "iopub.status.idle": "2023-08-07T06:55:08.794433Z",
          "shell.execute_reply.started": "2023-08-07T06:55:08.789450Z",
          "shell.execute_reply": "2023-08-07T06:55:08.793112Z"
        },
        "trusted": true,
        "id": "hft5nYG0081M"
      },
      "execution_count": null,
      "outputs": []
    },
    {
      "cell_type": "code",
      "source": [
        "Y_preds"
      ],
      "metadata": {
        "execution": {
          "iopub.status.busy": "2023-08-07T06:55:13.112311Z",
          "iopub.execute_input": "2023-08-07T06:55:13.112698Z",
          "iopub.status.idle": "2023-08-07T06:55:13.120403Z",
          "shell.execute_reply.started": "2023-08-07T06:55:13.112668Z",
          "shell.execute_reply": "2023-08-07T06:55:13.119148Z"
        },
        "trusted": true,
        "id": "mewTFaYb081M",
        "outputId": "1aecccb8-d089-4d6b-bc5c-b1d3477ff15e"
      },
      "execution_count": null,
      "outputs": [
        {
          "execution_count": 47,
          "output_type": "execute_result",
          "data": {
            "text/plain": "array([1, 0, 1, 0, 1, 0, 0, 0, 0, 0, 1, 0, 0, 0, 0, 0, 0, 1, 1, 1, 0, 0,\n       0, 0, 1, 1, 0, 1, 0, 0, 0, 1, 0, 0, 1, 0, 0, 0, 1, 1, 0, 0, 0, 1,\n       1, 0, 1, 0, 1, 0, 0, 0, 1, 0, 1, 1, 1, 0, 0, 0, 0, 0, 1, 0, 0, 1,\n       0, 1, 1, 1, 1, 1, 0, 0, 1, 0, 1, 0, 0, 1, 0, 1, 1, 0, 0, 0, 0, 0,\n       0, 1, 0, 0, 0, 1, 1, 0, 1, 0, 0, 0, 1, 0, 0, 1, 0])"
          },
          "metadata": {}
        }
      ]
    },
    {
      "cell_type": "code",
      "source": [
        "from sklearn.metrics import accuracy_score\n",
        "score = accuracy_score(Y_test, Y_preds)"
      ],
      "metadata": {
        "execution": {
          "iopub.status.busy": "2023-08-07T06:57:34.182208Z",
          "iopub.execute_input": "2023-08-07T06:57:34.182643Z",
          "iopub.status.idle": "2023-08-07T06:57:34.190415Z",
          "shell.execute_reply.started": "2023-08-07T06:57:34.182608Z",
          "shell.execute_reply": "2023-08-07T06:57:34.189245Z"
        },
        "trusted": true,
        "id": "Sh93e2dG081N"
      },
      "execution_count": null,
      "outputs": []
    },
    {
      "cell_type": "code",
      "source": [
        "score"
      ],
      "metadata": {
        "execution": {
          "iopub.status.busy": "2023-08-07T06:57:38.549610Z",
          "iopub.execute_input": "2023-08-07T06:57:38.550028Z",
          "iopub.status.idle": "2023-08-07T06:57:38.557076Z",
          "shell.execute_reply.started": "2023-08-07T06:57:38.549995Z",
          "shell.execute_reply": "2023-08-07T06:57:38.555827Z"
        },
        "trusted": true,
        "id": "3LIReMGC081N",
        "outputId": "efaae0ab-c976-412f-b383-5d51695f5206"
      },
      "execution_count": null,
      "outputs": [
        {
          "execution_count": 52,
          "output_type": "execute_result",
          "data": {
            "text/plain": "1.0"
          },
          "metadata": {}
        }
      ]
    }
  ]
}